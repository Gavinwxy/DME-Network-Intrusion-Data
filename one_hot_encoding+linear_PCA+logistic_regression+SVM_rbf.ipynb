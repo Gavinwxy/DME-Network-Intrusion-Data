{
 "cells": [
  {
   "cell_type": "markdown",
   "metadata": {},
   "source": [
    "## Import necessary packages:"
   ]
  },
  {
   "cell_type": "code",
   "execution_count": 1,
   "metadata": {},
   "outputs": [],
   "source": [
    "import numpy as np\n",
    "import pandas as pd\n",
    "from matplotlib import pyplot as plt\n",
    "import seaborn as sns\n",
    "from sklearn import preprocessing\n",
    "from sklearn.model_selection import train_test_split, StratifiedShuffleSplit, StratifiedKFold, GridSearchCV\n",
    "from sklearn.decomposition import PCA\n",
    "from sklearn.metrics import average_precision_score, confusion_matrix\n",
    "from sklearn.linear_model import LogisticRegression\n",
    "from sklearn.svm import SVC\n",
    "\n",
    "seed = 0\n",
    "\n",
    "Probe = ['ipsweep', 'mscan', 'nmap', 'portsweep', 'saint', 'satan']\n",
    "\n",
    "DoS = ['apache2', 'back', 'land', 'mailbomb', 'neptune', 'pod', 'processtable', 'smurf', 'teardrop', 'udpstorm']\n",
    "\n",
    "R2L = ['buffer_overflow', 'httptunnel', 'loadmodule', 'perl', 'ps', 'rootkit', 'sqlattack', 'xterm']\n",
    "\n",
    "U2R = ['ftp_write', 'guess_passwd', 'imap', 'multihop', 'named', 'phf', 'sendmail', 'snmpgetattack', 'snmpguess',\n",
    "       'spy', 'warezclient', 'warezmaster', 'worm', 'xlock', 'xsnoop']"
   ]
  },
  {
   "cell_type": "markdown",
   "metadata": {},
   "source": [
    "## Import data and assign feature name to each column:"
   ]
  },
  {
   "cell_type": "code",
   "execution_count": 2,
   "metadata": {},
   "outputs": [],
   "source": [
    "columns = []\n",
    "with open('kddcup.names') as f:\n",
    "    next(f)\n",
    "    for line in f:\n",
    "        feature = line.split(':')[0]\n",
    "        columns.append(feature)\n",
    "columns.append('label')"
   ]
  },
  {
   "cell_type": "code",
   "execution_count": 3,
   "metadata": {},
   "outputs": [],
   "source": [
    "train_data = pd.read_csv('kddcup.data', header=None)\n",
    "train_data.columns = columns\n",
    "train_data['label'] = train_data['label'].apply(lambda x: x.replace('.', ''))\n",
    "\n",
    "test_data = pd.read_csv('corrected', header=None)\n",
    "test_data.columns = columns\n",
    "test_data['label'] = test_data['label'].apply(lambda x: x.replace('.', ''))"
   ]
  },
  {
   "cell_type": "code",
   "execution_count": 4,
   "metadata": {},
   "outputs": [],
   "source": [
    "boundary = train_data.shape[0]\n",
    "whole_data = pd.concat([train_data, test_data], axis=0)"
   ]
  },
  {
   "cell_type": "markdown",
   "metadata": {},
   "source": [
    "## One-hot encoding:"
   ]
  },
  {
   "cell_type": "code",
   "execution_count": 5,
   "metadata": {},
   "outputs": [],
   "source": [
    "categorical = ['protocol_type', 'service', 'flag', 'land', 'logged_in', 'is_host_login', 'is_guest_login']\n",
    "whole_data_categorical = whole_data[categorical].copy()\n",
    "whole_data.drop(columns=categorical, inplace=True)\n",
    "whole_data_categorical_T = pd.get_dummies(whole_data_categorical)\n",
    "whole_data = pd.concat([whole_data_categorical_T, whole_data], axis=1)"
   ]
  },
  {
   "cell_type": "markdown",
   "metadata": {},
   "source": [
    "## Split data into training and test set:"
   ]
  },
  {
   "cell_type": "code",
   "execution_count": 6,
   "metadata": {},
   "outputs": [],
   "source": [
    "train_data = whole_data.iloc[:boundary]\n",
    "test_data = whole_data.iloc[boundary:]\n",
    "\n",
    "X_train, y_train = train_data.drop(columns='label'), train_data['label']\n",
    "X_train, X_valid, y_train, y_valid = train_test_split(X_train, y_train, stratify=y_train, test_size=0.2, random_state=seed)\n",
    "X_test, y_test = test_data.drop(columns='label'), test_data['label']"
   ]
  },
  {
   "cell_type": "markdown",
   "metadata": {},
   "source": [
    "## Convert specific attack types to four general attack types in y_valid and y_test:"
   ]
  },
  {
   "cell_type": "code",
   "execution_count": null,
   "metadata": {},
   "outputs": [],
   "source": [
    "for attack in Probe:\n",
    "    y_valid = y_valid.replace(attack, 'Probe')\n",
    "    y_test = y_test.replace(attack, 'Probe')\n",
    "    \n",
    "for attack in DoS:\n",
    "    y_valid = y_valid.replace(attack, 'DoS')\n",
    "    y_test = y_test.replace(attack, 'DoS')\n",
    "    \n",
    "for attack in R2L:\n",
    "    y_valid = y_valid.replace(attack, 'R2L')\n",
    "    y_test = y_test.replace(attack, 'R2L')\n",
    "    \n",
    "for attack in U2R:\n",
    "    y_valid = y_valid.replace(attack, 'U2R')\n",
    "    y_test = y_test.replace(attack, 'U2R')"
   ]
  },
  {
   "cell_type": "markdown",
   "metadata": {},
   "source": [
    "## Store preprocessed data for later usage:"
   ]
  },
  {
   "cell_type": "code",
   "execution_count": 8,
   "metadata": {},
   "outputs": [],
   "source": [
    "X_train.to_pickle(\"X_train.pkl\")\n",
    "y_train.to_pickle(\"y_train.pkl\")\n",
    "\n",
    "X_valid.to_pickle(\"X_valid.pkl\")\n",
    "y_valid.to_pickle(\"y_valid.pkl\")\n",
    "\n",
    "X_test.to_pickle(\"X_test.pkl\")\n",
    "y_test.to_pickle(\"y_test.pkl\")"
   ]
  },
  {
   "cell_type": "markdown",
   "metadata": {},
   "source": [
    "## Load preprocessed data back:"
   ]
  },
  {
   "cell_type": "code",
   "execution_count": 2,
   "metadata": {},
   "outputs": [],
   "source": [
    "X_train = pd.read_pickle(\"X_train.pkl\")\n",
    "y_train = pd.read_pickle(\"y_train.pkl\")\n",
    "\n",
    "X_valid = pd.read_pickle(\"X_valid.pkl\")\n",
    "y_valid = pd.read_pickle(\"y_valid.pkl\")\n",
    "\n",
    "X_test = pd.read_pickle(\"X_test.pkl\")\n",
    "y_test = pd.read_pickle(\"y_test.pkl\")"
   ]
  },
  {
   "cell_type": "markdown",
   "metadata": {},
   "source": [
    "## Sample a subset of training data from the original training set:"
   ]
  },
  {
   "cell_type": "code",
   "execution_count": null,
   "metadata": {},
   "outputs": [],
   "source": [
    "# Recombine X_train and y_train into a dataframe:\n",
    "X_train_df = pd.concat([X_train, y_train], axis=1)"
   ]
  },
  {
   "cell_type": "code",
   "execution_count": null,
   "metadata": {},
   "outputs": [],
   "source": [
    "# Divide instances by label:\n",
    "label_list = np.unique(X_train_df['label'])\n",
    "\n",
    "df_label_list_dict = {'Probe': [], 'DoS': [], 'R2L': [], 'U2R': [], 'normal': []}\n",
    "for label in label_list:\n",
    "    df_label = X_train_df[X_train_df['label'] == label]\n",
    "    \n",
    "    if label in Probe:\n",
    "        df_label_list_dict['Probe'].append(df_label)\n",
    "    elif label in DoS:\n",
    "        df_label_list_dict['DoS'].append(df_label)\n",
    "    elif label in R2L:\n",
    "        df_label_list_dict['R2L'].append(df_label)\n",
    "    elif label in U2R:\n",
    "        df_label_list_dict['U2R'].append(df_label)\n",
    "    else:\n",
    "        df_label_list_dict['normal'].append(df_label)"
   ]
  },
  {
   "cell_type": "code",
   "execution_count": null,
   "metadata": {},
   "outputs": [],
   "source": [
    "# Determine the maximum number of instances to be sampled from each label:\n",
    "num_samples_per_label = 500\n",
    "\n",
    "X_train_df_sampled = pd.DataFrame()\n",
    "sample_weights = []\n",
    "\n",
    "for cls, df_label_list in df_label_list_dict.items():\n",
    "    sample_distribution_within_cls = []\n",
    "    \n",
    "    for df_label in df_label_list:\n",
    "        num_instances = df_label.shape[0]\n",
    "        num_samples = min(num_instances, num_samples_per_label)\n",
    "        \n",
    "        sample_distribution_within_cls.append(num_samples)\n",
    "        df_sampled = df_label.sample(n=num_samples, random_state=seed)\n",
    "        X_train_df_sampled = pd.concat([X_train_df_sampled, df_sampled], axis=0)\n",
    "        \n",
    "    sample_distribution_within_cls = np.array(sample_distribution_within_cls)\n",
    "    weight_per_sample_group = sample_distribution_within_cls.sum() / sample_distribution_within_cls\n",
    "    \n",
    "    for i in range(len(sample_distribution_within_cls)):\n",
    "        sample_weights += [weight_per_sample_group[i]] * sample_distribution_within_cls[i]"
   ]
  },
  {
   "cell_type": "code",
   "execution_count": null,
   "metadata": {},
   "outputs": [],
   "source": [
    "# Decompose X_train_df_sampled into X_train and y_train again:\n",
    "X_train, y_train = X_train_df_sampled.drop(columns='label'), X_train_df_sampled['label']"
   ]
  },
  {
   "cell_type": "markdown",
   "metadata": {},
   "source": [
    "## Convert specific attack types to four general attack types in y_train:"
   ]
  },
  {
   "cell_type": "code",
   "execution_count": 7,
   "metadata": {},
   "outputs": [],
   "source": [
    "for attack in Probe:\n",
    "    y_train = y_train.replace(attack, 'Probe')\n",
    "    \n",
    "for attack in DoS:\n",
    "    y_train = y_train.replace(attack, 'DoS')\n",
    "    \n",
    "for attack in R2L:\n",
    "    y_train = y_train.replace(attack, 'R2L')\n",
    "    \n",
    "for attack in U2R:\n",
    "    y_train = y_train.replace(attack, 'U2R')"
   ]
  },
  {
   "cell_type": "markdown",
   "metadata": {},
   "source": [
    "## Standardize feature vectors using StandardScaler:"
   ]
  },
  {
   "cell_type": "code",
   "execution_count": 8,
   "metadata": {},
   "outputs": [
    {
     "name": "stderr",
     "output_type": "stream",
     "text": [
      "/anaconda3/envs/dme/lib/python3.7/site-packages/sklearn/preprocessing/data.py:625: DataConversionWarning: Data with input dtype uint8, int64, float64 were all converted to float64 by StandardScaler.\n",
      "  return self.partial_fit(X, y)\n",
      "/anaconda3/envs/dme/lib/python3.7/site-packages/ipykernel_launcher.py:2: DataConversionWarning: Data with input dtype uint8, int64, float64 were all converted to float64 by StandardScaler.\n",
      "  \n",
      "/anaconda3/envs/dme/lib/python3.7/site-packages/ipykernel_launcher.py:2: DataConversionWarning: Data with input dtype uint8, int64, float64 were all converted to float64 by StandardScaler.\n",
      "  \n",
      "/anaconda3/envs/dme/lib/python3.7/site-packages/ipykernel_launcher.py:2: DataConversionWarning: Data with input dtype uint8, int64, float64 were all converted to float64 by StandardScaler.\n",
      "  \n"
     ]
    }
   ],
   "source": [
    "sscaler = preprocessing.StandardScaler().fit(X_train)\n",
    "X_train, X_valid, X_test = sscaler.transform(X_train), sscaler.transform(X_valid), sscaler.transform(X_test)"
   ]
  },
  {
   "cell_type": "markdown",
   "metadata": {},
   "source": [
    "## Use linear PCA to perform dimensionality reduction:\n",
    "**Warning**: linear PCA **works** with StandardScaler but **doesn't work** with RobustScaler."
   ]
  },
  {
   "cell_type": "code",
   "execution_count": 9,
   "metadata": {},
   "outputs": [
    {
     "data": {
      "image/png": "[encoded data removed]",
      "text/plain": [
       "<Figure size 576x288 with 2 Axes>"
      ]
     },
     "metadata": {
      "needs_background": "light"
     },
     "output_type": "display_data"
    }
   ],
   "source": [
    "pca = PCA(n_components=X_train.shape[1], svd_solver='full')\n",
    "pca.fit(X_train)\n",
    "\n",
    "fig, ax1 = plt.subplots(figsize=(8, 4))\n",
    "graph1 = ax1.bar(np.arange(X_train.shape[1]), pca.explained_variance_ratio_, label='individual explained variance')\n",
    "ax1.tick_params(axis='y', labelcolor='blue')\n",
    "ax1.set_xlabel('Number of Principal Components')\n",
    "ax1.set_ylabel('Explained Variance Ratio')\n",
    "\n",
    "ax2 = ax1.twinx()\n",
    "graph2 = ax2.plot(np.cumsum(pca.explained_variance_ratio_), c='red', label='cumulative explained variance')\n",
    "ax2.tick_params(axis='y', labelcolor='red')\n",
    "ax2.set_ylabel('Explained Variance Ratio')\n",
    "\n",
    "index = np.nonzero(np.cumsum(pca.explained_variance_ratio_) >= 0.8)[0][0]\n",
    "graph3 = ax2.vlines(index, 0, 1, color='purple', linestyles=\"dotted\", label='80% variance is explained with {} components'.format(index+1))\n",
    "\n",
    "graphs = [graph1, graph2[0], graph3]\n",
    "labels = [g.get_label() for g in graphs]\n",
    "ax1.legend(graphs, labels, bbox_to_anchor=(1, 0.5))\n",
    "\n",
    "plt.title('Explained Variance Ratio versus Number of Principal Components')\n",
    "plt.show()"
   ]
  },
  {
   "cell_type": "code",
   "execution_count": null,
   "metadata": {},
   "outputs": [],
   "source": [
    "# Transform data using PCA with the optimal number of components found above:\n",
    "pca = PCA(n_components=index+1)\n",
    "pca.fit(X_train)\n",
    "X_train, X_valid, X_test = pca.transform(X_train), pca.transform(X_valid), pca.transform(X_test)"
   ]
  },
  {
   "cell_type": "markdown",
   "metadata": {},
   "source": [
    "## Stratified holdout validation:"
   ]
  },
  {
   "cell_type": "code",
   "execution_count": null,
   "metadata": {},
   "outputs": [],
   "source": [
    "sss = StratifiedShuffleSplit(n_splits=1, test_size=0.2, random_state=seed)"
   ]
  },
  {
   "cell_type": "markdown",
   "metadata": {},
   "source": [
    "## Stratified Cross Validation:"
   ]
  },
  {
   "cell_type": "code",
   "execution_count": null,
   "metadata": {},
   "outputs": [],
   "source": [
    "skf = StratifiedKFold(n_splits=5, shuffle=True, random_state=seed)"
   ]
  },
  {
   "cell_type": "markdown",
   "metadata": {},
   "source": [
    "## Make custom scorers for grid search:"
   ]
  },
  {
   "cell_type": "code",
   "execution_count": 1,
   "metadata": {},
   "outputs": [],
   "source": [
    "def prob_avg_PR_scorer(clf, X, y):\n",
    "    y_pred = clf.predict_proba(X)\n",
    "    return average_precision_score(preprocessing.LabelBinarizer().fit_transform(y), y_pred, average='macro')\n",
    "\n",
    "def deci_avg_PR_scorer(clf, X, y):\n",
    "    y_pred = clf.decision_function(X)\n",
    "    return average_precision_score(preprocessing.LabelBinarizer().fit_transform(y), y_pred, average='macro')"
   ]
  },
  {
   "cell_type": "markdown",
   "metadata": {},
   "source": [
    "## Softmax Regression for multinomial classification:\n",
    "### Linear decision boundary:"
   ]
  },
  {
   "cell_type": "code",
   "execution_count": null,
   "metadata": {},
   "outputs": [],
   "source": [
    "parameters = {\n",
    "    'C': np.logspace(-5, 5, 10)\n",
    "}\n",
    "\n",
    "gs_lgr = GridSearchCV(LogisticRegression(multi_class='multinomial', class_weight='balanced', solver='lbfgs'), parameters, prob_avg_PR_scorer, cv=skf)\n",
    "gs_lgr.fit(X_train, y_train)\n",
    "lgr = gs_lgr.best_estimator_\n",
    "\n",
    "# Multiclass macro average PR_AUC:\n",
    "avg_PR = prob_avg_PR_scorer(lgr, X_valid, y_valid)\n",
    "\n",
    "print (\"The best average PR_AUC for Logistic Regression on validation set is {:.4f}\".format(avg_PR))\n",
    "display(gs_lgr.best_params_)"
   ]
  },
  {
   "cell_type": "markdown",
   "metadata": {},
   "source": [
    "## Plot confusion matrix of Softmax Regression on validation set:"
   ]
  },
  {
   "cell_type": "code",
   "execution_count": null,
   "metadata": {},
   "outputs": [],
   "source": [
    "y_pred_valid = lgr.predict(X_valid)\n",
    "cm = confusion_matrix(y_valid, y_pred_valid)\n",
    "cm = pd.DataFrame(data=cm, index=[lgr.classes_], columns=[lgr.classes_])"
   ]
  },
  {
   "cell_type": "code",
   "execution_count": null,
   "metadata": {},
   "outputs": [],
   "source": [
    "percent_correct_horizontal = cm.sum(axis=1)\n",
    "for i in range(cm.shape[0]):\n",
    "    percent_correct_horizontal.iloc[i] = cm.iloc[i, i] / percent_correct_horizontal.iloc[i]\n",
    "percent_correct_horizontal = round(percent_correct_horizontal * 100, 2)\n",
    "percent_correct_horizontal = percent_correct_horizontal.apply(lambda x: str(x) + '%')"
   ]
  },
  {
   "cell_type": "code",
   "execution_count": null,
   "metadata": {},
   "outputs": [],
   "source": [
    "percent_correct_vertical = cm.sum(axis=0)\n",
    "for i in range(cm.shape[0]):\n",
    "    percent_correct_vertical.iloc[i] = cm.iloc[i, i] / percent_correct_vertical.iloc[i]\n",
    "percent_correct_vertical = round(percent_correct_vertical * 100, 2)\n",
    "percent_correct_vertical = percent_correct_vertical.apply(lambda x: str(x) + '%')"
   ]
  },
  {
   "cell_type": "code",
   "execution_count": null,
   "metadata": {},
   "outputs": [],
   "source": [
    "cm['Recall%'] = percent_correct_horizontal\n",
    "percent_correct_vertical.name = ('Precision%', 5)\n",
    "cm = cm.append(percent_correct_vertical)\n",
    "display(cm)"
   ]
  },
  {
   "cell_type": "markdown",
   "metadata": {},
   "source": [
    "## SVM with radial basis function (rbf) kernel for OvR multiclass classification:\n",
    "### Non-linear decision boundary:"
   ]
  },
  {
   "cell_type": "code",
   "execution_count": null,
   "metadata": {},
   "outputs": [],
   "source": [
    "parameters = {\n",
    "    'C': np.logspace(-5, 5, 10),\n",
    "    'gamma': np.logspace(-5, 0, 5)\n",
    "}\n",
    "\n",
    "gs_svm_rbf = GridSearchCV(SVC(kernel='rbf', decision_function_shape='ovr', class_weight='balanced'), parameters, deci_avg_PR_scorer, cv=skf)\n",
    "gs_svm_rbf.fit(X_train, y_train)\n",
    "svm_rbf = gs_svm_rbf.best_estimator_\n",
    "\n",
    "# Multiclass macro average PR_AUC:\n",
    "avg_PR = deci_avg_PR_scorer(svm_rbf, X_valid, y_valid)\n",
    "\n",
    "print (\"The best average PR_AUC for Support Vector Machine with rbf kernel on validation set is {:.4f}\".format(avg_PR))\n",
    "display(gs_svm_rbf.best_params_)"
   ]
  },
  {
   "cell_type": "markdown",
   "metadata": {},
   "source": [
    "## Plot confusion matrix of SVM on validation set:"
   ]
  },
  {
   "cell_type": "code",
   "execution_count": null,
   "metadata": {},
   "outputs": [],
   "source": [
    "y_pred_valid = svm_rbf.predict(X_valid)\n",
    "cm = confusion_matrix(y_valid, y_pred_valid)\n",
    "cm = pd.DataFrame(data=cm, index=[svm_rbf.classes_], columns=[svm_rbf.classes_])"
   ]
  },
  {
   "cell_type": "code",
   "execution_count": null,
   "metadata": {},
   "outputs": [],
   "source": [
    "percent_correct_horizontal = cm.sum(axis=1)\n",
    "for i in range(cm.shape[0]):\n",
    "    percent_correct_horizontal.iloc[i] = cm.iloc[i, i] / percent_correct_horizontal.iloc[i]\n",
    "percent_correct_horizontal = round(percent_correct_horizontal * 100, 2)\n",
    "percent_correct_horizontal = percent_correct_horizontal.apply(lambda x: str(x) + '%')"
   ]
  },
  {
   "cell_type": "code",
   "execution_count": null,
   "metadata": {},
   "outputs": [],
   "source": [
    "percent_correct_vertical = cm.sum(axis=0)\n",
    "for i in range(cm.shape[0]):\n",
    "    percent_correct_vertical.iloc[i] = cm.iloc[i, i] / percent_correct_vertical.iloc[i]\n",
    "percent_correct_vertical = round(percent_correct_vertical * 100, 2)\n",
    "percent_correct_vertical = percent_correct_vertical.apply(lambda x: str(x) + '%')"
   ]
  },
  {
   "cell_type": "code",
   "execution_count": null,
   "metadata": {},
   "outputs": [],
   "source": [
    "cm['Recall%'] = percent_correct_horizontal\n",
    "percent_correct_vertical.name = ('Precision%', 5)\n",
    "cm = cm.append(percent_correct_vertical)\n",
    "display(cm)"
   ]
  }
 ],
 "metadata": {
  "kernelspec": {
   "display_name": "Python 3",
   "language": "python",
   "name": "python3"
  },
  "language_info": {
   "codemirror_mode": {
    "name": "ipython",
    "version": 3
   },
   "file_extension": ".py",
   "mimetype": "text/x-python",
   "name": "python",
   "nbconvert_exporter": "python",
   "pygments_lexer": "ipython3",
   "version": "3.7.2"
  }
 },
 "nbformat": 4,
 "nbformat_minor": 2
}
