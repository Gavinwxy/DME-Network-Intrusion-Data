{
 "cells": [
  {
   "cell_type": "markdown",
   "metadata": {},
   "source": [
    "## Import necessary packages:"
   ]
  },
  {
   "cell_type": "code",
   "execution_count": 1,
   "metadata": {},
   "outputs": [],
   "source": [
    "import numpy as np\n",
    "import pandas as pd\n",
    "from matplotlib import pyplot as plt\n",
    "import seaborn as sns\n",
    "from functools import partial\n",
    "from sklearn.feature_selection import mutual_info_classif, SelectKBest\n",
    "from sklearn import preprocessing\n",
    "from sklearn.pipeline import Pipeline\n",
    "from sklearn.model_selection import train_test_split, StratifiedShuffleSplit, StratifiedKFold, GridSearchCV\n",
    "from sklearn.decomposition import PCA\n",
    "from sklearn.metrics import average_precision_score, confusion_matrix\n",
    "from sklearn.linear_model import LogisticRegression\n",
    "\n",
    "seed = 0\n",
    "\n",
    "Probe = ['ipsweep', 'mscan', 'nmap', 'portsweep', 'saint', 'satan']\n",
    "\n",
    "DoS = ['apache2', 'back', 'land', 'mailbomb', 'neptune', 'pod', 'processtable', 'smurf', 'teardrop', 'udpstorm']\n",
    "\n",
    "R2L = ['buffer_overflow', 'httptunnel', 'loadmodule', 'perl', 'ps', 'rootkit', 'sqlattack', 'xterm']\n",
    "\n",
    "U2R = ['ftp_write', 'guess_passwd', 'imap', 'multihop', 'named', 'phf', 'sendmail', 'snmpgetattack', 'snmpguess',\n",
    "       'spy', 'warezclient', 'warezmaster', 'worm', 'xlock', 'xsnoop']"
   ]
  },
  {
   "cell_type": "markdown",
   "metadata": {},
   "source": [
    "## Import data and assign feature name to each column:"
   ]
  },
  {
   "cell_type": "code",
   "execution_count": 2,
   "metadata": {},
   "outputs": [],
   "source": [
    "columns = []\n",
    "with open('kddcup.names') as f:\n",
    "    next(f)\n",
    "    for line in f:\n",
    "        feature = line.split(':')[0]\n",
    "        columns.append(feature)\n",
    "columns.append('label')"
   ]
  },
  {
   "cell_type": "code",
   "execution_count": 3,
   "metadata": {},
   "outputs": [],
   "source": [
    "train_data = pd.read_csv('kddcup.data', header=None)\n",
    "train_data.columns = columns\n",
    "train_data['label'] = train_data['label'].apply(lambda x: x.replace('.', ''))\n",
    "\n",
    "test_data = pd.read_csv('corrected', header=None)\n",
    "test_data.columns = columns\n",
    "test_data['label'] = test_data['label'].apply(lambda x: x.replace('.', ''))"
   ]
  },
  {
   "cell_type": "code",
   "execution_count": 4,
   "metadata": {},
   "outputs": [],
   "source": [
    "boundary = train_data.shape[0]\n",
    "whole_data = pd.concat([train_data, test_data], axis=0)"
   ]
  },
  {
   "cell_type": "markdown",
   "metadata": {},
   "source": [
    "## One-hot encoding:"
   ]
  },
  {
   "cell_type": "code",
   "execution_count": 5,
   "metadata": {},
   "outputs": [
    {
     "data": {
      "text/plain": [
       "89"
      ]
     },
     "metadata": {},
     "output_type": "display_data"
    }
   ],
   "source": [
    "categorical = ['protocol_type', 'service', 'flag', 'land', 'logged_in', 'is_host_login', 'is_guest_login']\n",
    "whole_data_categorical = whole_data[categorical].copy()\n",
    "whole_data.drop(columns=categorical, inplace=True)\n",
    "whole_data_categorical_T = pd.get_dummies(whole_data_categorical)\n",
    "num_one_hot_features = whole_data_categorical_T.shape[1]\n",
    "display(num_one_hot_features)\n",
    "whole_data = pd.concat([whole_data_categorical_T, whole_data], axis=1)"
   ]
  },
  {
   "cell_type": "markdown",
   "metadata": {},
   "source": [
    "## Split data into training and test set:"
   ]
  },
  {
   "cell_type": "code",
   "execution_count": 6,
   "metadata": {},
   "outputs": [],
   "source": [
    "train_data = whole_data.iloc[:boundary]\n",
    "test_data = whole_data.iloc[boundary:]\n",
    "\n",
    "X_train, y_train = train_data.drop(columns='label'), train_data['label']\n",
    "X_train, X_valid, y_train, y_valid = train_test_split(X_train, y_train, stratify=y_train, test_size=0.2, random_state=seed)\n",
    "X_test, y_test = test_data.drop(columns='label'), test_data['label']"
   ]
  },
  {
   "cell_type": "markdown",
   "metadata": {},
   "source": [
    "## Convert specific attack types to four general attack types in y_valid and y_test:"
   ]
  },
  {
   "cell_type": "code",
   "execution_count": null,
   "metadata": {},
   "outputs": [],
   "source": [
    "for attack in Probe:\n",
    "    y_valid = y_valid.replace(attack, 'Probe')\n",
    "    y_test = y_test.replace(attack, 'Probe')\n",
    "    \n",
    "for attack in DoS:\n",
    "    y_valid = y_valid.replace(attack, 'DoS')\n",
    "    y_test = y_test.replace(attack, 'DoS')\n",
    "    \n",
    "for attack in R2L:\n",
    "    y_valid = y_valid.replace(attack, 'R2L')\n",
    "    y_test = y_test.replace(attack, 'R2L')\n",
    "    \n",
    "for attack in U2R:\n",
    "    y_valid = y_valid.replace(attack, 'U2R')\n",
    "    y_test = y_test.replace(attack, 'U2R')"
   ]
  },
  {
   "cell_type": "markdown",
   "metadata": {},
   "source": [
    "## Store preprocessed data for later usage:"
   ]
  },
  {
   "cell_type": "code",
   "execution_count": 16,
   "metadata": {},
   "outputs": [],
   "source": [
    "X_train.to_pickle(\"X_train.pkl\")\n",
    "y_train.to_pickle(\"y_train.pkl\")\n",
    "\n",
    "X_valid.to_pickle(\"X_valid.pkl\")\n",
    "y_valid.to_pickle(\"y_valid.pkl\")\n",
    "\n",
    "X_test.to_pickle(\"X_test.pkl\")\n",
    "y_test.to_pickle(\"y_test.pkl\")"
   ]
  },
  {
   "cell_type": "markdown",
   "metadata": {},
   "source": [
    "## Load preprocessed data back:"
   ]
  },
  {
   "cell_type": "code",
   "execution_count": 2,
   "metadata": {},
   "outputs": [],
   "source": [
    "X_train = pd.read_pickle(\"X_train.pkl\")\n",
    "y_train = pd.read_pickle(\"y_train.pkl\")\n",
    "\n",
    "X_valid = pd.read_pickle(\"X_valid.pkl\")\n",
    "y_valid = pd.read_pickle(\"y_valid.pkl\")\n",
    "\n",
    "X_test = pd.read_pickle(\"X_test.pkl\")\n",
    "y_test = pd.read_pickle(\"y_test.pkl\")\n",
    "\n",
    "num_one_hot_features = 89"
   ]
  },
  {
   "cell_type": "markdown",
   "metadata": {},
   "source": [
    "## Sample a subset of training data from the original training set:"
   ]
  },
  {
   "cell_type": "code",
   "execution_count": 3,
   "metadata": {},
   "outputs": [],
   "source": [
    "# Recombine X_train and y_train into a dataframe:\n",
    "X_train_df = pd.concat([X_train, y_train], axis=1)"
   ]
  },
  {
   "cell_type": "code",
   "execution_count": 4,
   "metadata": {},
   "outputs": [],
   "source": [
    "# Divide instances by label:\n",
    "label_list = np.unique(X_train_df['label'])\n",
    "\n",
    "df_label_list_dict = {'Probe': [], 'DoS': [], 'R2L': [], 'U2R': [], 'normal': []}\n",
    "for label in label_list:\n",
    "    df_label = X_train_df[X_train_df['label'] == label]\n",
    "    \n",
    "    if label in Probe:\n",
    "        df_label_list_dict['Probe'].append(df_label)\n",
    "    elif label in DoS:\n",
    "        df_label_list_dict['DoS'].append(df_label)\n",
    "    elif label in R2L:\n",
    "        df_label_list_dict['R2L'].append(df_label)\n",
    "    elif label in U2R:\n",
    "        df_label_list_dict['U2R'].append(df_label)\n",
    "    else:\n",
    "        df_label_list_dict['normal'].append(df_label)"
   ]
  },
  {
   "cell_type": "code",
   "execution_count": 5,
   "metadata": {},
   "outputs": [],
   "source": [
    "# Determine the maximum number of instances to be sampled from each label:\n",
    "num_samples_per_label = 500\n",
    "\n",
    "X_train_df_sampled = pd.DataFrame()\n",
    "sample_weights = []\n",
    "\n",
    "for cls, df_label_list in df_label_list_dict.items():\n",
    "    sample_distribution_within_cls = []\n",
    "    \n",
    "    for df_label in df_label_list:\n",
    "        num_instances = df_label.shape[0]\n",
    "        num_samples = min(num_instances, num_samples_per_label)\n",
    "        \n",
    "        sample_distribution_within_cls.append(num_samples)\n",
    "        df_sampled = df_label.sample(n=num_samples, random_state=seed)\n",
    "        X_train_df_sampled = pd.concat([X_train_df_sampled, df_sampled], axis=0)\n",
    "        \n",
    "    sample_distribution_within_cls = np.array(sample_distribution_within_cls)\n",
    "    weight_per_sample_group = sample_distribution_within_cls.sum() / sample_distribution_within_cls\n",
    "    \n",
    "    for i in range(len(sample_distribution_within_cls)):\n",
    "        sample_weights += [weight_per_sample_group[i]] * sample_distribution_within_cls[i]"
   ]
  },
  {
   "cell_type": "code",
   "execution_count": 6,
   "metadata": {},
   "outputs": [],
   "source": [
    "# Decompose X_train_df_sampled into X_train and y_train again:\n",
    "X_train, y_train = X_train_df_sampled.drop(columns='label'), X_train_df_sampled['label']"
   ]
  },
  {
   "cell_type": "markdown",
   "metadata": {},
   "source": [
    "## Convert specific attack types to four general attack types in y_train:"
   ]
  },
  {
   "cell_type": "code",
   "execution_count": 7,
   "metadata": {},
   "outputs": [],
   "source": [
    "for attack in Probe:\n",
    "    y_train = y_train.replace(attack, 'Probe')\n",
    "    \n",
    "for attack in DoS:\n",
    "    y_train = y_train.replace(attack, 'DoS')\n",
    "    \n",
    "for attack in R2L:\n",
    "    y_train = y_train.replace(attack, 'R2L')\n",
    "    \n",
    "for attack in U2R:\n",
    "    y_train = y_train.replace(attack, 'U2R')"
   ]
  },
  {
   "cell_type": "markdown",
   "metadata": {},
   "source": [
    "## Use mutual information to perform feature selection:"
   ]
  },
  {
   "cell_type": "code",
   "execution_count": 8,
   "metadata": {},
   "outputs": [],
   "source": [
    "# Obtain feature index for categorical features:\n",
    "categorical_idx = [i for i in range(num_one_hot_features)]\n",
    "mutual_info_scores = mutual_info_classif(X_train, y_train, discrete_features=categorical_idx)"
   ]
  },
  {
   "cell_type": "code",
   "execution_count": 9,
   "metadata": {},
   "outputs": [
    {
     "data": {
      "image/png": "[encoded data removed]",
      "text/plain": [
       "<Figure size 576x288 with 1 Axes>"
      ]
     },
     "metadata": {
      "needs_background": "light"
     },
     "output_type": "display_data"
    }
   ],
   "source": [
    "# Plot mutual information scores from high to low:\n",
    "x = np.arange(len(X_train.columns))\n",
    "\n",
    "plt.figure(figsize=(8, 4))\n",
    "plt.bar(x, -np.sort(-mutual_info_scores))\n",
    "plt.xlabel('Number of Features')\n",
    "plt.ylabel('Mutual Information Score')\n",
    "plt.title('Mutual Information Score Ranked from High to Low')\n",
    "plt.show()"
   ]
  },
  {
   "cell_type": "code",
   "execution_count": 10,
   "metadata": {},
   "outputs": [
    {
     "data": {
      "text/plain": [
       "['logged_in',\n",
       " 'src_bytes',\n",
       " 'dst_bytes',\n",
       " 'count',\n",
       " 'srv_count',\n",
       " 'dst_host_srv_count',\n",
       " 'dst_host_same_srv_rate',\n",
       " 'dst_host_diff_srv_rate',\n",
       " 'dst_host_srv_diff_host_rate',\n",
       " 'dst_host_srv_rerror_rate']"
      ]
     },
     "metadata": {},
     "output_type": "display_data"
    }
   ],
   "source": [
    "# Code to show what are the top features:\n",
    "num_selected_features = 10\n",
    "idx_best_features = np.sort((-mutual_info_scores).argsort()[:num_selected_features])\n",
    "selected_features = list(X_train_df.columns[idx_best_features])\n",
    "display(selected_features)"
   ]
  },
  {
   "cell_type": "code",
   "execution_count": 11,
   "metadata": {},
   "outputs": [],
   "source": [
    "k_selected_features = [10]"
   ]
  },
  {
   "cell_type": "markdown",
   "metadata": {},
   "source": [
    "## Standardize feature vectors using StandardScaler:"
   ]
  },
  {
   "cell_type": "code",
   "execution_count": 12,
   "metadata": {},
   "outputs": [
    {
     "name": "stderr",
     "output_type": "stream",
     "text": [
      "/anaconda3/envs/dme/lib/python3.7/site-packages/sklearn/preprocessing/data.py:625: DataConversionWarning: Data with input dtype uint8, int64, float64 were all converted to float64 by StandardScaler.\n",
      "  return self.partial_fit(X, y)\n",
      "/anaconda3/envs/dme/lib/python3.7/site-packages/ipykernel_launcher.py:2: DataConversionWarning: Data with input dtype uint8, int64, float64 were all converted to float64 by StandardScaler.\n",
      "  \n",
      "/anaconda3/envs/dme/lib/python3.7/site-packages/ipykernel_launcher.py:2: DataConversionWarning: Data with input dtype uint8, int64, float64 were all converted to float64 by StandardScaler.\n",
      "  \n",
      "/anaconda3/envs/dme/lib/python3.7/site-packages/ipykernel_launcher.py:2: DataConversionWarning: Data with input dtype uint8, int64, float64 were all converted to float64 by StandardScaler.\n",
      "  \n"
     ]
    }
   ],
   "source": [
    "sscaler = preprocessing.StandardScaler().fit(X_train)\n",
    "X_train, X_valid, X_test = sscaler.transform(X_train), sscaler.transform(X_valid), sscaler.transform(X_test)"
   ]
  },
  {
   "cell_type": "markdown",
   "metadata": {},
   "source": [
    "## Stratified holdout validation:"
   ]
  },
  {
   "cell_type": "code",
   "execution_count": 13,
   "metadata": {},
   "outputs": [],
   "source": [
    "sss = StratifiedShuffleSplit(n_splits=1, test_size=0.2, random_state=seed)"
   ]
  },
  {
   "cell_type": "markdown",
   "metadata": {},
   "source": [
    "## Stratified Cross Validation:"
   ]
  },
  {
   "cell_type": "code",
   "execution_count": 14,
   "metadata": {},
   "outputs": [],
   "source": [
    "skf = StratifiedKFold(n_splits=5, shuffle=True, random_state=seed)"
   ]
  },
  {
   "cell_type": "markdown",
   "metadata": {},
   "source": [
    "## Make custom scorers for grid search:"
   ]
  },
  {
   "cell_type": "code",
   "execution_count": 15,
   "metadata": {},
   "outputs": [],
   "source": [
    "def prob_avg_PR_scorer(clf, X, y):\n",
    "    y_pred = clf.predict_proba(X)\n",
    "    return average_precision_score(preprocessing.LabelBinarizer().fit_transform(y), y_pred, average='macro')\n",
    "\n",
    "def deci_avg_PR_scorer(clf, X, y):\n",
    "    y_pred = clf.decision_function(X)\n",
    "    return average_precision_score(preprocessing.LabelBinarizer().fit_transform(y), y_pred, average='macro')"
   ]
  },
  {
   "cell_type": "markdown",
   "metadata": {},
   "source": [
    "## Softmax Regression for multinomial classification:\n",
    "### Linear decision boundary:"
   ]
  },
  {
   "cell_type": "code",
   "execution_count": 16,
   "metadata": {},
   "outputs": [
    {
     "name": "stderr",
     "output_type": "stream",
     "text": [
      "/anaconda3/envs/dme/lib/python3.7/site-packages/sklearn/linear_model/logistic.py:758: ConvergenceWarning: lbfgs failed to converge. Increase the number of iterations.\n",
      "  \"of iterations.\", ConvergenceWarning)\n",
      "/anaconda3/envs/dme/lib/python3.7/site-packages/sklearn/linear_model/logistic.py:758: ConvergenceWarning: lbfgs failed to converge. Increase the number of iterations.\n",
      "  \"of iterations.\", ConvergenceWarning)\n",
      "/anaconda3/envs/dme/lib/python3.7/site-packages/sklearn/linear_model/logistic.py:758: ConvergenceWarning: lbfgs failed to converge. Increase the number of iterations.\n",
      "  \"of iterations.\", ConvergenceWarning)\n",
      "/anaconda3/envs/dme/lib/python3.7/site-packages/sklearn/linear_model/logistic.py:758: ConvergenceWarning: lbfgs failed to converge. Increase the number of iterations.\n",
      "  \"of iterations.\", ConvergenceWarning)\n",
      "/anaconda3/envs/dme/lib/python3.7/site-packages/sklearn/linear_model/logistic.py:758: ConvergenceWarning: lbfgs failed to converge. Increase the number of iterations.\n",
      "  \"of iterations.\", ConvergenceWarning)\n",
      "/anaconda3/envs/dme/lib/python3.7/site-packages/sklearn/linear_model/logistic.py:758: ConvergenceWarning: lbfgs failed to converge. Increase the number of iterations.\n",
      "  \"of iterations.\", ConvergenceWarning)\n",
      "/anaconda3/envs/dme/lib/python3.7/site-packages/sklearn/linear_model/logistic.py:758: ConvergenceWarning: lbfgs failed to converge. Increase the number of iterations.\n",
      "  \"of iterations.\", ConvergenceWarning)\n",
      "/anaconda3/envs/dme/lib/python3.7/site-packages/sklearn/linear_model/logistic.py:758: ConvergenceWarning: lbfgs failed to converge. Increase the number of iterations.\n",
      "  \"of iterations.\", ConvergenceWarning)\n",
      "/anaconda3/envs/dme/lib/python3.7/site-packages/sklearn/linear_model/logistic.py:758: ConvergenceWarning: lbfgs failed to converge. Increase the number of iterations.\n",
      "  \"of iterations.\", ConvergenceWarning)\n",
      "/anaconda3/envs/dme/lib/python3.7/site-packages/sklearn/linear_model/logistic.py:758: ConvergenceWarning: lbfgs failed to converge. Increase the number of iterations.\n",
      "  \"of iterations.\", ConvergenceWarning)\n",
      "/anaconda3/envs/dme/lib/python3.7/site-packages/sklearn/linear_model/logistic.py:758: ConvergenceWarning: lbfgs failed to converge. Increase the number of iterations.\n",
      "  \"of iterations.\", ConvergenceWarning)\n",
      "/anaconda3/envs/dme/lib/python3.7/site-packages/sklearn/linear_model/logistic.py:758: ConvergenceWarning: lbfgs failed to converge. Increase the number of iterations.\n",
      "  \"of iterations.\", ConvergenceWarning)\n",
      "/anaconda3/envs/dme/lib/python3.7/site-packages/sklearn/linear_model/logistic.py:758: ConvergenceWarning: lbfgs failed to converge. Increase the number of iterations.\n",
      "  \"of iterations.\", ConvergenceWarning)\n",
      "/anaconda3/envs/dme/lib/python3.7/site-packages/sklearn/linear_model/logistic.py:758: ConvergenceWarning: lbfgs failed to converge. Increase the number of iterations.\n",
      "  \"of iterations.\", ConvergenceWarning)\n",
      "/anaconda3/envs/dme/lib/python3.7/site-packages/sklearn/linear_model/logistic.py:758: ConvergenceWarning: lbfgs failed to converge. Increase the number of iterations.\n",
      "  \"of iterations.\", ConvergenceWarning)\n",
      "/anaconda3/envs/dme/lib/python3.7/site-packages/sklearn/linear_model/logistic.py:758: ConvergenceWarning: lbfgs failed to converge. Increase the number of iterations.\n",
      "  \"of iterations.\", ConvergenceWarning)\n",
      "/anaconda3/envs/dme/lib/python3.7/site-packages/sklearn/linear_model/logistic.py:758: ConvergenceWarning: lbfgs failed to converge. Increase the number of iterations.\n",
      "  \"of iterations.\", ConvergenceWarning)\n",
      "/anaconda3/envs/dme/lib/python3.7/site-packages/sklearn/linear_model/logistic.py:758: ConvergenceWarning: lbfgs failed to converge. Increase the number of iterations.\n",
      "  \"of iterations.\", ConvergenceWarning)\n",
      "/anaconda3/envs/dme/lib/python3.7/site-packages/sklearn/linear_model/logistic.py:758: ConvergenceWarning: lbfgs failed to converge. Increase the number of iterations.\n",
      "  \"of iterations.\", ConvergenceWarning)\n",
      "/anaconda3/envs/dme/lib/python3.7/site-packages/sklearn/linear_model/logistic.py:758: ConvergenceWarning: lbfgs failed to converge. Increase the number of iterations.\n",
      "  \"of iterations.\", ConvergenceWarning)\n",
      "/anaconda3/envs/dme/lib/python3.7/site-packages/sklearn/linear_model/logistic.py:758: ConvergenceWarning: lbfgs failed to converge. Increase the number of iterations.\n",
      "  \"of iterations.\", ConvergenceWarning)\n",
      "/anaconda3/envs/dme/lib/python3.7/site-packages/sklearn/linear_model/logistic.py:758: ConvergenceWarning: lbfgs failed to converge. Increase the number of iterations.\n",
      "  \"of iterations.\", ConvergenceWarning)\n",
      "/anaconda3/envs/dme/lib/python3.7/site-packages/sklearn/linear_model/logistic.py:758: ConvergenceWarning: lbfgs failed to converge. Increase the number of iterations.\n",
      "  \"of iterations.\", ConvergenceWarning)\n",
      "/anaconda3/envs/dme/lib/python3.7/site-packages/sklearn/linear_model/logistic.py:758: ConvergenceWarning: lbfgs failed to converge. Increase the number of iterations.\n",
      "  \"of iterations.\", ConvergenceWarning)\n",
      "/anaconda3/envs/dme/lib/python3.7/site-packages/sklearn/linear_model/logistic.py:758: ConvergenceWarning: lbfgs failed to converge. Increase the number of iterations.\n",
      "  \"of iterations.\", ConvergenceWarning)\n",
      "/anaconda3/envs/dme/lib/python3.7/site-packages/sklearn/linear_model/logistic.py:758: ConvergenceWarning: lbfgs failed to converge. Increase the number of iterations.\n",
      "  \"of iterations.\", ConvergenceWarning)\n"
     ]
    },
    {
     "name": "stdout",
     "output_type": "stream",
     "text": [
      "The best average PR_AUC for Logistic Regression on validation set is 0.5756\n"
     ]
    },
    {
     "data": {
      "text/plain": [
       "{'k_best__k': 10, 'lgr__C': 3.593813663804626}"
      ]
     },
     "metadata": {},
     "output_type": "display_data"
    }
   ],
   "source": [
    "k_best = SelectKBest(score_func=partial(mutual_info_classif, discrete_features=categorical_idx))\n",
    "pipeline = Pipeline(steps=[('k_best', k_best), ('lgr', LogisticRegression(multi_class='multinomial', class_weight='balanced', solver='lbfgs'))])\n",
    "\n",
    "parameters = {\n",
    "    'k_best__k': k_selected_features,\n",
    "    'lgr__C': np.logspace(-5, 5, 10)\n",
    "}\n",
    "\n",
    "gs_lgr = GridSearchCV(pipeline, parameters, prob_avg_PR_scorer, cv=skf)\n",
    "gs_lgr.fit(X_train, y_train, sample_weights)\n",
    "lgr = gs_lgr.best_estimator_\n",
    "\n",
    "# Multiclass macro average PR_AUC:\n",
    "avg_PR = prob_avg_PR_scorer(lgr, X_valid, y_valid)\n",
    "\n",
    "print (\"The best average PR_AUC for Logistic Regression on validation set is {:.4f}\".format(avg_PR))\n",
    "display(gs_lgr.best_params_)"
   ]
  },
  {
   "cell_type": "markdown",
   "metadata": {},
   "source": [
    "## Plot confusion matrix of Softmax Regression on validation set:"
   ]
  },
  {
   "cell_type": "code",
   "execution_count": 17,
   "metadata": {},
   "outputs": [],
   "source": [
    "y_pred_valid = lgr.predict(X_valid)\n",
    "cm = confusion_matrix(y_valid, y_pred_valid)\n",
    "cm = pd.DataFrame(data=cm, index=[lgr.classes_], columns=[lgr.classes_])"
   ]
  },
  {
   "cell_type": "code",
   "execution_count": 18,
   "metadata": {},
   "outputs": [],
   "source": [
    "percent_correct_horizontal = cm.sum(axis=1)\n",
    "for i in range(cm.shape[0]):\n",
    "    percent_correct_horizontal.iloc[i] = cm.iloc[i, i] / percent_correct_horizontal.iloc[i]\n",
    "percent_correct_horizontal = round(percent_correct_horizontal * 100, 2)\n",
    "percent_correct_horizontal = percent_correct_horizontal.apply(lambda x: str(x) + '%')"
   ]
  },
  {
   "cell_type": "code",
   "execution_count": 19,
   "metadata": {},
   "outputs": [],
   "source": [
    "percent_correct_vertical = cm.sum(axis=0)\n",
    "for i in range(cm.shape[0]):\n",
    "    percent_correct_vertical.iloc[i] = cm.iloc[i, i] / percent_correct_vertical.iloc[i]\n",
    "percent_correct_vertical = round(percent_correct_vertical * 100, 2)\n",
    "percent_correct_vertical = percent_correct_vertical.apply(lambda x: str(x) + '%')"
   ]
  },
  {
   "cell_type": "code",
   "execution_count": 20,
   "metadata": {},
   "outputs": [
    {
     "data": {
      "text/html": [
       "<div>\n",
       "<style scoped>\n",
       "    .dataframe tbody tr th:only-of-type {\n",
       "        vertical-align: middle;\n",
       "    }\n",
       "\n",
       "    .dataframe tbody tr th {\n",
       "        vertical-align: top;\n",
       "    }\n",
       "\n",
       "    .dataframe thead tr th {\n",
       "        text-align: left;\n",
       "    }\n",
       "</style>\n",
       "<table border=\"1\" class=\"dataframe\">\n",
       "  <thead>\n",
       "    <tr>\n",
       "      <th></th>\n",
       "      <th>DoS</th>\n",
       "      <th>Probe</th>\n",
       "      <th>R2L</th>\n",
       "      <th>U2R</th>\n",
       "      <th>normal</th>\n",
       "      <th>Recall%</th>\n",
       "    </tr>\n",
       "  </thead>\n",
       "  <tbody>\n",
       "    <tr>\n",
       "      <th>DoS</th>\n",
       "      <td>776033</td>\n",
       "      <td>90</td>\n",
       "      <td>141</td>\n",
       "      <td>122</td>\n",
       "      <td>289</td>\n",
       "      <td>99.92%</td>\n",
       "    </tr>\n",
       "    <tr>\n",
       "      <th>Probe</th>\n",
       "      <td>371</td>\n",
       "      <td>7648</td>\n",
       "      <td>41</td>\n",
       "      <td>113</td>\n",
       "      <td>47</td>\n",
       "      <td>93.04%</td>\n",
       "    </tr>\n",
       "    <tr>\n",
       "      <th>R2L</th>\n",
       "      <td>0</td>\n",
       "      <td>0</td>\n",
       "      <td>9</td>\n",
       "      <td>2</td>\n",
       "      <td>0</td>\n",
       "      <td>81.82%</td>\n",
       "    </tr>\n",
       "    <tr>\n",
       "      <th>U2R</th>\n",
       "      <td>1</td>\n",
       "      <td>1</td>\n",
       "      <td>72</td>\n",
       "      <td>142</td>\n",
       "      <td>9</td>\n",
       "      <td>63.11%</td>\n",
       "    </tr>\n",
       "    <tr>\n",
       "      <th>normal</th>\n",
       "      <td>8980</td>\n",
       "      <td>14226</td>\n",
       "      <td>3402</td>\n",
       "      <td>13028</td>\n",
       "      <td>154920</td>\n",
       "      <td>79.63%</td>\n",
       "    </tr>\n",
       "    <tr>\n",
       "      <th>Precision%</th>\n",
       "      <td>98.81%</td>\n",
       "      <td>34.82%</td>\n",
       "      <td>0.25%</td>\n",
       "      <td>1.06%</td>\n",
       "      <td>99.78%</td>\n",
       "      <td>NaN</td>\n",
       "    </tr>\n",
       "  </tbody>\n",
       "</table>\n",
       "</div>"
      ],
      "text/plain": [
       "               DoS   Probe    R2L    U2R  normal Recall%\n",
       "DoS         776033      90    141    122     289  99.92%\n",
       "Probe          371    7648     41    113      47  93.04%\n",
       "R2L              0       0      9      2       0  81.82%\n",
       "U2R              1       1     72    142       9  63.11%\n",
       "normal        8980   14226   3402  13028  154920  79.63%\n",
       "Precision%  98.81%  34.82%  0.25%  1.06%  99.78%     NaN"
      ]
     },
     "metadata": {},
     "output_type": "display_data"
    }
   ],
   "source": [
    "cm['Recall%'] = percent_correct_horizontal\n",
    "percent_correct_vertical.name = ('Precision%', 5)\n",
    "cm = cm.append(percent_correct_vertical)\n",
    "display(cm)"
   ]
  },
  {
   "cell_type": "markdown",
   "metadata": {},
   "source": [
    "## SVM with radial basis function (rbf) kernel for OvR multiclass classification:\n",
    "### Non-linear decision boundary:"
   ]
  },
  {
   "cell_type": "code",
   "execution_count": null,
   "metadata": {},
   "outputs": [],
   "source": [
    "k_best = SelectKBest(score_func=partial(mutual_info_classif, discrete_features=categorical_idx))\n",
    "pipeline = Pipeline(steps=[('k_best', k_best), ('svm_rbf', SVC(kernel='rbf', decision_function_shape='ovr', class_weight='balanced'))])\n",
    "\n",
    "parameters = {\n",
    "    'k_best__k': k_selected_features,\n",
    "    'svm_rbf__C': np.logspace(-5, 5, 10),\n",
    "    'svm_rbf__gamma': np.logspace(-5, 0, 5)\n",
    "}\n",
    "\n",
    "gs_svm_rbf = GridSearchCV(pipeline, parameters, deci_avg_PR_scorer, cv=skf)\n",
    "gs_svm_rbf.fit(X_train, y_train, sample_weights)\n",
    "svm_rbf = gs_svm_rbf.best_estimator_\n",
    "\n",
    "# Multiclass macro average PR_AUC:\n",
    "avg_PR = deci_avg_PR_scorer(svm_rbf, X_valid, y_valid)\n",
    "\n",
    "print (\"The best average PR_AUC for Support Vector Machine with rbf kernel on validation set is {:.4f}\".format(avg_PR))\n",
    "display(gs_svm_rbf.best_params_)"
   ]
  },
  {
   "cell_type": "markdown",
   "metadata": {},
   "source": [
    "## Plot confusion matrix of SVM on validation set:"
   ]
  },
  {
   "cell_type": "code",
   "execution_count": null,
   "metadata": {},
   "outputs": [],
   "source": [
    "y_pred_valid = svm_rbf.predict(X_valid)\n",
    "cm = confusion_matrix(y_valid, y_pred_valid)\n",
    "cm = pd.DataFrame(data=cm, index=[svm_rbf.classes_], columns=[svm_rbf.classes_])"
   ]
  },
  {
   "cell_type": "code",
   "execution_count": null,
   "metadata": {},
   "outputs": [],
   "source": [
    "percent_correct_horizontal = cm.sum(axis=1)\n",
    "for i in range(cm.shape[0]):\n",
    "    percent_correct_horizontal.iloc[i] = cm.iloc[i, i] / percent_correct_horizontal.iloc[i]\n",
    "percent_correct_horizontal = round(percent_correct_horizontal * 100, 2)\n",
    "percent_correct_horizontal = percent_correct_horizontal.apply(lambda x: str(x) + '%')"
   ]
  },
  {
   "cell_type": "code",
   "execution_count": null,
   "metadata": {},
   "outputs": [],
   "source": [
    "percent_correct_vertical = cm.sum(axis=0)\n",
    "for i in range(cm.shape[0]):\n",
    "    percent_correct_vertical.iloc[i] = cm.iloc[i, i] / percent_correct_vertical.iloc[i]\n",
    "percent_correct_vertical = round(percent_correct_vertical * 100, 2)\n",
    "percent_correct_vertical = percent_correct_vertical.apply(lambda x: str(x) + '%')"
   ]
  },
  {
   "cell_type": "code",
   "execution_count": null,
   "metadata": {},
   "outputs": [],
   "source": [
    "cm['Recall%'] = percent_correct_horizontal\n",
    "percent_correct_vertical.name = ('Precision%', 5)\n",
    "cm = cm.append(percent_correct_vertical)\n",
    "display(cm)"
   ]
  }
 ],
 "metadata": {
  "kernelspec": {
   "display_name": "Python 3",
   "language": "python",
   "name": "python3"
  },
  "language_info": {
   "codemirror_mode": {
    "name": "ipython",
    "version": 3
   },
   "file_extension": ".py",
   "mimetype": "text/x-python",
   "name": "python",
   "nbconvert_exporter": "python",
   "pygments_lexer": "ipython3",
   "version": "3.6.5"
  }
 },
 "nbformat": 4,
 "nbformat_minor": 2
}
