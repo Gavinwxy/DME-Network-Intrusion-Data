{
 "cells": [
  {
   "cell_type": "markdown",
   "metadata": {},
   "source": [
    "## Import necessary packages:"
   ]
  },
  {
   "cell_type": "code",
   "execution_count": 1,
   "metadata": {},
   "outputs": [],
   "source": [
    "import numpy as np\n",
    "import pandas as pd\n",
    "from matplotlib import pyplot as plt\n",
    "import seaborn as sns\n",
    "from plotter import plot_confusion_matrix\n",
    "from sklearn.feature_selection import mutual_info_classif, SelectKBest\n",
    "from sklearn import preprocessing\n",
    "from sklearn.model_selection import train_test_split, StratifiedShuffleSplit, GridSearchCV\n",
    "from sklearn.decomposition import PCA\n",
    "from sklearn.metrics import roc_auc_score, confusion_matrix\n",
    "from sklearn.linear_model import LogisticRegression\n",
    "\n",
    "seed = 0\n",
    "\n",
    "Probe = ['ipsweep', 'mscan', 'nmap', 'portsweep', 'saint', 'satan']\n",
    "\n",
    "DoS = ['apache2', 'back', 'land', 'mailbomb', 'neptune', 'pod', 'processtable', 'smurf', 'teardrop', 'udpstorm']\n",
    "\n",
    "R2L = ['buffer_overflow', 'httptunnel', 'loadmodule', 'perl', 'ps', 'rootkit', 'sqlattack', 'xterm']\n",
    "\n",
    "U2R = ['ftp_write', 'guess_passwd', 'imap', 'multihop', 'named', 'phf', 'sendmail', 'snmpgetattack', 'snmpguess',\n",
    "       'spy', 'warezclient', 'warezmaster', 'worm', 'xlock', 'xsnoop']"
   ]
  },
  {
   "cell_type": "markdown",
   "metadata": {},
   "source": [
    "## Import data and assign feature name to each column:"
   ]
  },
  {
   "cell_type": "code",
   "execution_count": 2,
   "metadata": {},
   "outputs": [],
   "source": [
    "columns = []\n",
    "with open('kddcup.names') as f:\n",
    "    next(f)\n",
    "    for line in f:\n",
    "        feature = line.split(':')[0]\n",
    "        columns.append(feature)\n",
    "columns.append('label')"
   ]
  },
  {
   "cell_type": "code",
   "execution_count": 3,
   "metadata": {},
   "outputs": [],
   "source": [
    "train_data = pd.read_csv('kddcup.data', header=None)\n",
    "train_data.columns = columns\n",
    "train_data['label'] = train_data['label'].apply(lambda x: x.replace('.', ''))\n",
    "\n",
    "test_data = pd.read_csv('corrected', header=None)\n",
    "test_data.columns = columns\n",
    "test_data['label'] = test_data['label'].apply(lambda x: x.replace('.', ''))"
   ]
  },
  {
   "cell_type": "code",
   "execution_count": 4,
   "metadata": {},
   "outputs": [],
   "source": [
    "boundary = train_data.shape[0]\n",
    "whole_data = pd.concat([train_data, test_data], axis=0)"
   ]
  },
  {
   "cell_type": "markdown",
   "metadata": {},
   "source": [
    "## One-hot encoding:"
   ]
  },
  {
   "cell_type": "code",
   "execution_count": 5,
   "metadata": {},
   "outputs": [
    {
     "data": {
      "text/plain": [
       "89"
      ]
     },
     "metadata": {},
     "output_type": "display_data"
    }
   ],
   "source": [
    "categorical = ['protocol_type', 'service', 'flag', 'land', 'logged_in', 'is_host_login', 'is_guest_login']\n",
    "whole_data_categorical = whole_data[categorical].copy()\n",
    "whole_data.drop(columns=categorical, inplace=True)\n",
    "whole_data_categorical_T = pd.get_dummies(whole_data_categorical)\n",
    "num_one_hot_features = whole_data_categorical_T.shape[1]\n",
    "display(num_one_hot_features)\n",
    "whole_data = pd.concat([whole_data_categorical_T, whole_data], axis=1)"
   ]
  },
  {
   "cell_type": "markdown",
   "metadata": {},
   "source": [
    "## Split data into training and test set:"
   ]
  },
  {
   "cell_type": "code",
   "execution_count": 6,
   "metadata": {},
   "outputs": [],
   "source": [
    "train_data = whole_data.iloc[:boundary]\n",
    "test_data = whole_data.iloc[boundary:]\n",
    "\n",
    "X_train, y_train = train_data.drop(columns='label'), train_data['label']\n",
    "X_train, X_valid, y_train, y_valid = train_test_split(X_train, y_train, stratify=y_train, test_size=0.2, random_state=seed)\n",
    "X_test, y_test = test_data.drop(columns='label'), test_data['label']"
   ]
  },
  {
   "cell_type": "code",
   "execution_count": 59,
   "metadata": {},
   "outputs": [],
   "source": [
    "X_train, X_valid, X_test = X_train[selected_features], X_valid[selected_features], X_test[selected_features]"
   ]
  },
  {
   "cell_type": "markdown",
   "metadata": {},
   "source": [
    "## Standardize feature vectors using StandardScaler:"
   ]
  },
  {
   "cell_type": "code",
   "execution_count": null,
   "metadata": {},
   "outputs": [],
   "source": [
    "sscaler = preprocessing.StandardScaler().fit(X_train)\n",
    "X_train, X_valid, X_test = sscaler.transform(X_train), sscaler.transform(X_valid), sscaler.transform(X_test)"
   ]
  },
  {
   "cell_type": "markdown",
   "metadata": {},
   "source": [
    "## Convert specific attack types to four general attack types in y_valid and y_test:"
   ]
  },
  {
   "cell_type": "code",
   "execution_count": null,
   "metadata": {},
   "outputs": [],
   "source": [
    "for attack in Probe:\n",
    "    y_valid = y_valid.replace(attack, 'Probe')\n",
    "    y_test = y_test.replace(attack, 'Probe')\n",
    "    \n",
    "for attack in DoS:\n",
    "    y_valid = y_valid.replace(attack, 'DoS')\n",
    "    y_test = y_test.replace(attack, 'DoS')\n",
    "    \n",
    "for attack in R2L:\n",
    "    y_valid = y_valid.replace(attack, 'R2L')\n",
    "    y_test = y_test.replace(attack, 'R2L')\n",
    "    \n",
    "for attack in U2R:\n",
    "    y_valid = y_valid.replace(attack, 'U2R')\n",
    "    y_test = y_test.replace(attack, 'U2R')"
   ]
  },
  {
   "cell_type": "markdown",
   "metadata": {},
   "source": [
    "## Store preprocessed data for later usage:"
   ]
  },
  {
   "cell_type": "code",
   "execution_count": 16,
   "metadata": {},
   "outputs": [],
   "source": [
    "X_train.to_pickle(\"X_train.pkl\")\n",
    "y_train.to_pickle(\"y_train.pkl\")\n",
    "\n",
    "X_valid.to_pickle(\"X_valid.pkl\")\n",
    "y_valid.to_pickle(\"y_valid.pkl\")\n",
    "\n",
    "X_test.to_pickle(\"X_test.pkl\")\n",
    "y_test.to_pickle(\"y_test.pkl\")"
   ]
  },
  {
   "cell_type": "markdown",
   "metadata": {},
   "source": [
    "## Load preprocessed data back:"
   ]
  },
  {
   "cell_type": "code",
   "execution_count": 2,
   "metadata": {},
   "outputs": [],
   "source": [
    "X_train = pd.read_pickle(\"X_train.pkl\")\n",
    "y_train = pd.read_pickle(\"y_train.pkl\")\n",
    "\n",
    "X_valid = pd.read_pickle(\"X_valid.pkl\")\n",
    "y_valid = pd.read_pickle(\"y_valid.pkl\")\n",
    "\n",
    "X_test = pd.read_pickle(\"X_test.pkl\")\n",
    "y_test = pd.read_pickle(\"y_test.pkl\")\n",
    "\n",
    "num_one_hot_features = 89"
   ]
  },
  {
   "cell_type": "markdown",
   "metadata": {},
   "source": [
    "## Sample a subset of training data from the original training set:"
   ]
  },
  {
   "cell_type": "code",
   "execution_count": null,
   "metadata": {},
   "outputs": [],
   "source": [
    "# Recombine X_train and y_train into a dataframe:\n",
    "X_train_df = pd.concat([X_train, y_train], axis=1)"
   ]
  },
  {
   "cell_type": "code",
   "execution_count": null,
   "metadata": {},
   "outputs": [],
   "source": [
    "# Divide instances by label:\n",
    "label_list = np.unique(X_train_df['label'])\n",
    "\n",
    "df_label_list = []\n",
    "for label in label_list:\n",
    "    df_label_list.append(X_train_df[X_train_df['label'] == label])"
   ]
  },
  {
   "cell_type": "code",
   "execution_count": null,
   "metadata": {},
   "outputs": [],
   "source": [
    "# Determine how many instances are sampled from each label:\n",
    "num_samples_per_label = 100\n",
    "X_train_df_sampled = pd.DataFrame()\n",
    "\n",
    "for df in df_label_list:\n",
    "    num_instances = df.shape[0]\n",
    "    \n",
    "    replace = False\n",
    "    if num_instances < num_samples_per_label:\n",
    "        replace = True\n",
    "    \n",
    "    df_sampled = df.sample(n=num_samples_per_label, replace=replace, random_state=seed)\n",
    "    X_train_df_sampled = pd.concat([X_train_df_sampled, df_sampled], axis=0)"
   ]
  },
  {
   "cell_type": "code",
   "execution_count": null,
   "metadata": {},
   "outputs": [],
   "source": [
    "# Decompose X_train_df_sampled into X_train and y_train again:\n",
    "X_train, y_train = X_train_df_sampled.drop(columns='label'), X_train_df_sampled['label']"
   ]
  },
  {
   "cell_type": "markdown",
   "metadata": {},
   "source": [
    "## Convert specific attack types to four general attack types in y_train:"
   ]
  },
  {
   "cell_type": "code",
   "execution_count": null,
   "metadata": {},
   "outputs": [],
   "source": [
    "for attack in Probe:\n",
    "    y_train = y_train.replace(attack, 'Probe')\n",
    "    \n",
    "for attack in DoS:\n",
    "    y_train = y_train.replace(attack, 'DoS')\n",
    "    \n",
    "for attack in R2L:\n",
    "    y_train = y_train.replace(attack, 'R2L')\n",
    "    \n",
    "for attack in U2R:\n",
    "    y_train = y_train.replace(attack, 'U2R')"
   ]
  },
  {
   "cell_type": "markdown",
   "metadata": {},
   "source": [
    "## Use mutual information to perform feature selection:"
   ]
  },
  {
   "cell_type": "code",
   "execution_count": null,
   "metadata": {},
   "outputs": [],
   "source": [
    "# Obtain feature index for categorical features:\n",
    "categorical_idx = [i for i in range(num_one_hot_features)]\n",
    "mutual_info_scores = mutual_info_classif(X_train, y_train, discrete_features=categorical_idx)"
   ]
  },
  {
   "cell_type": "code",
   "execution_count": null,
   "metadata": {},
   "outputs": [],
   "source": [
    "# Determine how many features to be selected:\n",
    "num_selected_features = 10\n",
    "idx_best_features = np.sort((-mutual_info_scores).argsort()[:num_selected_features])\n",
    "selected_features = list(X_train_df.columns[idx_best_features])\n",
    "display(selected_features)"
   ]
  },
  {
   "cell_type": "code",
   "execution_count": null,
   "metadata": {},
   "outputs": [],
   "source": [
    "## TODO"
   ]
  },
  {
   "cell_type": "markdown",
   "metadata": {},
   "source": [
    "## Stratified holdout validation:"
   ]
  },
  {
   "cell_type": "code",
   "execution_count": null,
   "metadata": {},
   "outputs": [],
   "source": [
    "sss = StratifiedShuffleSplit(n_splits=1, test_size=0.2, random_state=seed)"
   ]
  },
  {
   "cell_type": "markdown",
   "metadata": {},
   "source": [
    "## Softmax Regression for multinomial classification:\n",
    "### Linear decision boundary:"
   ]
  },
  {
   "cell_type": "code",
   "execution_count": null,
   "metadata": {},
   "outputs": [],
   "source": [
    "parameters = {\n",
    "    'C': np.logspace(-5, 5, 30)\n",
    "}\n",
    "\n",
    "gs_lgr = GridSearchCV(LogisticRegression(multi_class='multinomial', class_weight='balanced', solver='lbfgs'), parameters, cv=sss)\n",
    "gs_lgr.fit(X_train, y_train)\n",
    "\n",
    "lgr = gs_lgr.best_estimator_\n",
    "y_pred_valid = lgr.predict_proba(X_valid)\n",
    "\n",
    "# Multiclass average ROC_AUC score:\n",
    "avg_roc_auc = 0\n",
    "for i, label in enumerate(lgr.classes_):\n",
    "    y_valid_label = (y_valid == label).astype(int)\n",
    "    y_pred_valid_label = y_pred_valid[:,i]\n",
    "    avg_roc_auc += roc_auc_score(y_valid_label, y_pred_valid_label)\n",
    "    \n",
    "avg_roc_auc /= len(lgr.classes_)\n",
    "\n",
    "print (\"The best average ROC_AUC for Softmax Regression on validation set is {:.4f}\".format(avg_roc_auc))\n",
    "display(gs_lgr.best_params_)"
   ]
  },
  {
   "cell_type": "markdown",
   "metadata": {},
   "source": [
    "## Plot confusion matrix of Softmax Regression on validation set:"
   ]
  },
  {
   "cell_type": "code",
   "execution_count": null,
   "metadata": {},
   "outputs": [],
   "source": [
    "y_pred_valid = lgr.predict(X_valid)\n",
    "cm = confusion_matrix(y_valid, y_pred_valid)\n",
    "cm = pd.DataFrame(data=cm, index=[lgr.classes_], columns=[lgr.classes_])"
   ]
  },
  {
   "cell_type": "code",
   "execution_count": null,
   "metadata": {},
   "outputs": [],
   "source": [
    "percent_correct_horizontal = cm.sum(axis=1)\n",
    "for i in range(cm.shape[0]):\n",
    "    percent_correct_horizontal.iloc[i] = cm.iloc[i, i] / percent_correct_horizontal.iloc[i]\n",
    "percent_correct_horizontal = round(percent_correct_horizontal * 100, 2)\n",
    "percent_correct_horizontal = percent_correct_horizontal.apply(lambda x: str(x) + '%')"
   ]
  },
  {
   "cell_type": "code",
   "execution_count": null,
   "metadata": {},
   "outputs": [],
   "source": [
    "percent_correct_vertical = cm.sum(axis=0)\n",
    "for i in range(cm.shape[0]):\n",
    "    percent_correct_vertical.iloc[i] = cm.iloc[i, i] / percent_correct_vertical.iloc[i]\n",
    "percent_correct_vertical = round(percent_correct_vertical * 100, 2)\n",
    "percent_correct_vertical = percent_correct_vertical.apply(lambda x: str(x) + '%')"
   ]
  },
  {
   "cell_type": "code",
   "execution_count": null,
   "metadata": {},
   "outputs": [],
   "source": [
    "cm['%correct'] = percent_correct_horizontal\n",
    "percent_correct_vertical.name = ('%Correct', 5)\n",
    "cm = cm.append(percent_correct_vertical)\n",
    "display(cm)"
   ]
  },
  {
   "cell_type": "markdown",
   "metadata": {},
   "source": [
    "## SVM with radial basis function (rbf) kernel for OvR multiclass classification:\n",
    "### Non-linear decision boundary:"
   ]
  },
  {
   "cell_type": "code",
   "execution_count": null,
   "metadata": {},
   "outputs": [],
   "source": [
    "parameters = {\n",
    "    'C': np.logspace(-5, 5, 10),\n",
    "    'gamma': np.logspace(-5, 0, 5)\n",
    "}\n",
    "\n",
    "gs_svm_rbf = GridSearchCV(SVC(kernel='rbf', decision_function_shape='ovr', class_weight='balanced'), parameters, cv=sss)\n",
    "gs_svm_rbf.fit(X_train, y_train)\n",
    "\n",
    "svm_rbf = gs_svm_rbf.best_estimator_\n",
    "y_pred_valid = svm_rbf.decision_function(X_valid)\n",
    "\n",
    "# Multiclass average ROC_AUC score:\n",
    "avg_roc_auc = 0\n",
    "for i, label in enumerate(svm_rbf.classes_):\n",
    "    y_valid_label = (y_valid == label).astype(int)\n",
    "    y_pred_valid_label = y_pred_valid[:,i]\n",
    "    avg_roc_auc += roc_auc_score(y_valid_label, y_pred_valid_label)\n",
    "    \n",
    "avg_roc_auc /= len(svm_rbf.classes_)\n",
    "\n",
    "print (\"The best average ROC_AUC for Support Vector Machine with rbf kernel on validation set is {:.4f}\".format(avg_roc_auc))\n",
    "display(gs_svm_rbf.best_params_)"
   ]
  },
  {
   "cell_type": "markdown",
   "metadata": {},
   "source": [
    "## Plot confusion matrix of SVM on validation set:"
   ]
  },
  {
   "cell_type": "code",
   "execution_count": null,
   "metadata": {},
   "outputs": [],
   "source": [
    "y_pred_valid = svm_rbf.predict(X_valid)\n",
    "cm = confusion_matrix(y_valid, y_pred_valid)\n",
    "cm = pd.DataFrame(data=cm, index=[svm_rbf.classes_], columns=[svm_rbf.classes_])"
   ]
  },
  {
   "cell_type": "code",
   "execution_count": null,
   "metadata": {},
   "outputs": [],
   "source": [
    "percent_correct_horizontal = cm.sum(axis=1)\n",
    "for i in range(cm.shape[0]):\n",
    "    percent_correct_horizontal.iloc[i] = cm.iloc[i, i] / percent_correct_horizontal.iloc[i]\n",
    "percent_correct_horizontal = round(percent_correct_horizontal * 100, 2)\n",
    "percent_correct_horizontal = percent_correct_horizontal.apply(lambda x: str(x) + '%')"
   ]
  },
  {
   "cell_type": "code",
   "execution_count": null,
   "metadata": {},
   "outputs": [],
   "source": [
    "percent_correct_vertical = cm.sum(axis=0)\n",
    "for i in range(cm.shape[0]):\n",
    "    percent_correct_vertical.iloc[i] = cm.iloc[i, i] / percent_correct_vertical.iloc[i]\n",
    "percent_correct_vertical = round(percent_correct_vertical * 100, 2)\n",
    "percent_correct_vertical = percent_correct_vertical.apply(lambda x: str(x) + '%')"
   ]
  },
  {
   "cell_type": "code",
   "execution_count": null,
   "metadata": {},
   "outputs": [],
   "source": [
    "cm['%correct'] = percent_correct_horizontal\n",
    "percent_correct_vertical.name = ('%Correct', 5)\n",
    "cm = cm.append(percent_correct_vertical)\n",
    "display(cm)"
   ]
  }
 ],
 "metadata": {
  "kernelspec": {
   "display_name": "Python 3",
   "language": "python",
   "name": "python3"
  },
  "language_info": {
   "codemirror_mode": {
    "name": "ipython",
    "version": 3
   },
   "file_extension": ".py",
   "mimetype": "text/x-python",
   "name": "python",
   "nbconvert_exporter": "python",
   "pygments_lexer": "ipython3",
   "version": "3.7.1"
  }
 },
 "nbformat": 4,
 "nbformat_minor": 2
}
