{
 "cells": [
  {
   "cell_type": "markdown",
   "metadata": {},
   "source": [
    "## Import necessary packages:"
   ]
  },
  {
   "cell_type": "code",
   "execution_count": null,
   "metadata": {},
   "outputs": [],
   "source": [
    "import numpy as np\n",
    "import pandas as pd\n",
    "from matplotlib import pyplot as plt\n",
    "import seaborn as sns\n",
    "from sklearn import preprocessing\n",
    "from sklearn.model_selection import train_test_split, StratifiedShuffleSplit, StratifiedKFold, GridSearchCV\n",
    "from sklearn.decomposition import PCA, KernelPCA\n",
    "from sklearn.metrics import average_precision_score, confusion_matrix\n",
    "from sklearn.linear_model import LogisticRegression\n",
    "from sklearn.svm import SVC\n",
    "from tqdm import tqdm\n",
    "from sklearn.pipeline import Pipeline\n",
    "\n",
    "seed = 0\n",
    "\n",
    "Probe = ['ipsweep', 'mscan', 'nmap', 'portsweep', 'saint', 'satan']\n",
    "\n",
    "DoS = ['apache2', 'back', 'land', 'mailbomb', 'neptune', 'pod', 'processtable', 'smurf', 'teardrop', 'udpstorm']\n",
    "\n",
    "R2L = ['buffer_overflow', 'httptunnel', 'loadmodule', 'perl', 'ps', 'rootkit', 'sqlattack', 'xterm']\n",
    "\n",
    "U2R = ['ftp_write', 'guess_passwd', 'imap', 'multihop', 'named', 'phf', 'sendmail', 'snmpgetattack', 'snmpguess',\n",
    "       'spy', 'warezclient', 'warezmaster', 'worm', 'xlock', 'xsnoop']"
   ]
  },
  {
   "cell_type": "markdown",
   "metadata": {},
   "source": [
    "## Import data and assign feature name to each column:"
   ]
  },
  {
   "cell_type": "code",
   "execution_count": null,
   "metadata": {},
   "outputs": [],
   "source": [
    "columns = []\n",
    "with open('kddcup.names') as f:\n",
    "    next(f)\n",
    "    for line in f:\n",
    "        feature = line.split(':')[0]\n",
    "        columns.append(feature)\n",
    "columns.append('label')"
   ]
  },
  {
   "cell_type": "code",
   "execution_count": null,
   "metadata": {},
   "outputs": [],
   "source": [
    "train_data = pd.read_csv('kddcup.data', header=None)\n",
    "train_data.columns = columns\n",
    "train_data['label'] = train_data['label'].apply(lambda x: x.replace('.', ''))\n",
    "\n",
    "test_data = pd.read_csv('corrected', header=None)\n",
    "test_data.columns = columns\n",
    "test_data['label'] = test_data['label'].apply(lambda x: x.replace('.', ''))"
   ]
  },
  {
   "cell_type": "code",
   "execution_count": null,
   "metadata": {},
   "outputs": [],
   "source": [
    "boundary = train_data.shape[0]\n",
    "whole_data = pd.concat([train_data, test_data], axis=0)"
   ]
  },
  {
   "cell_type": "markdown",
   "metadata": {},
   "source": [
    "## One-hot encoding:"
   ]
  },
  {
   "cell_type": "code",
   "execution_count": null,
   "metadata": {},
   "outputs": [],
   "source": [
    "categorical = ['protocol_type', 'service', 'flag', 'land', 'logged_in', 'is_host_login', 'is_guest_login']\n",
    "whole_data_categorical = whole_data[categorical].copy()\n",
    "whole_data.drop(columns=categorical, inplace=True)\n",
    "whole_data_categorical_T = pd.get_dummies(whole_data_categorical)\n",
    "whole_data = pd.concat([whole_data_categorical_T, whole_data], axis=1)"
   ]
  },
  {
   "cell_type": "markdown",
   "metadata": {},
   "source": [
    "## Split data into training and test set:"
   ]
  },
  {
   "cell_type": "code",
   "execution_count": null,
   "metadata": {},
   "outputs": [],
   "source": [
    "train_data = whole_data.iloc[:boundary]\n",
    "test_data = whole_data.iloc[boundary:]\n",
    "\n",
    "X_train, y_train = train_data.drop(columns='label'), train_data['label']\n",
    "X_train, X_valid, y_train, y_valid = train_test_split(X_train, y_train, stratify=y_train, test_size=0.2, random_state=seed)\n",
    "X_test, y_test = test_data.drop(columns='label'), test_data['label']"
   ]
  },
  {
   "cell_type": "markdown",
   "metadata": {},
   "source": [
    "## Convert specific attack types to four general attack types in y_valid and y_test:"
   ]
  },
  {
   "cell_type": "code",
   "execution_count": null,
   "metadata": {},
   "outputs": [],
   "source": [
    "for attack in Probe:\n",
    "    y_valid = y_valid.replace(attack, 'Probe')\n",
    "    y_test = y_test.replace(attack, 'Probe')\n",
    "    \n",
    "for attack in DoS:\n",
    "    y_valid = y_valid.replace(attack, 'DoS')\n",
    "    y_test = y_test.replace(attack, 'DoS')\n",
    "    \n",
    "for attack in R2L:\n",
    "    y_valid = y_valid.replace(attack, 'R2L')\n",
    "    y_test = y_test.replace(attack, 'R2L')\n",
    "    \n",
    "for attack in U2R:\n",
    "    y_valid = y_valid.replace(attack, 'U2R')\n",
    "    y_test = y_test.replace(attack, 'U2R')"
   ]
  },
  {
   "cell_type": "markdown",
   "metadata": {},
   "source": [
    "## Store preprocessed data for later usage:"
   ]
  },
  {
   "cell_type": "code",
   "execution_count": null,
   "metadata": {},
   "outputs": [],
   "source": [
    "X_train.to_pickle(\"X_train.pkl\")\n",
    "y_train.to_pickle(\"y_train.pkl\")\n",
    "\n",
    "X_valid.to_pickle(\"X_valid.pkl\")\n",
    "y_valid.to_pickle(\"y_valid.pkl\")\n",
    "\n",
    "X_test.to_pickle(\"X_test.pkl\")\n",
    "y_test.to_pickle(\"y_test.pkl\")"
   ]
  },
  {
   "cell_type": "markdown",
   "metadata": {},
   "source": [
    "## Load preprocessed data back:"
   ]
  },
  {
   "cell_type": "code",
   "execution_count": null,
   "metadata": {},
   "outputs": [],
   "source": [
    "X_train = pd.read_pickle(\"X_train.pkl\")\n",
    "y_train = pd.read_pickle(\"y_train.pkl\")\n",
    "\n",
    "X_valid = pd.read_pickle(\"X_valid.pkl\")\n",
    "y_valid = pd.read_pickle(\"y_valid.pkl\")\n",
    "\n",
    "X_test = pd.read_pickle(\"X_test.pkl\")\n",
    "y_test = pd.read_pickle(\"y_test.pkl\")"
   ]
  },
  {
   "cell_type": "markdown",
   "metadata": {},
   "source": [
    "## Sample a subset of training data from the original training set:"
   ]
  },
  {
   "cell_type": "code",
   "execution_count": null,
   "metadata": {},
   "outputs": [],
   "source": [
    "# Recombine X_train and y_train into a dataframe:\n",
    "X_train_df = pd.concat([X_train, y_train], axis=1)"
   ]
  },
  {
   "cell_type": "code",
   "execution_count": null,
   "metadata": {},
   "outputs": [],
   "source": [
    "# Divide instances by label:\n",
    "label_list = np.unique(X_train_df['label'])\n",
    "\n",
    "df_label_list_dict = {'Probe': [], 'DoS': [], 'R2L': [], 'U2R': [], 'normal': []}\n",
    "for label in label_list:\n",
    "    df_label = X_train_df[X_train_df['label'] == label]\n",
    "    \n",
    "    if label in Probe:\n",
    "        df_label_list_dict['Probe'].append(df_label)\n",
    "    elif label in DoS:\n",
    "        df_label_list_dict['DoS'].append(df_label)\n",
    "    elif label in R2L:\n",
    "        df_label_list_dict['R2L'].append(df_label)\n",
    "    elif label in U2R:\n",
    "        df_label_list_dict['U2R'].append(df_label)\n",
    "    else:\n",
    "        df_label_list_dict['normal'].append(df_label)"
   ]
  },
  {
   "cell_type": "code",
   "execution_count": null,
   "metadata": {},
   "outputs": [],
   "source": [
    "# Determine the maximum number of instances to be sampled from each label:\n",
    "num_samples_per_label = 500\n",
    "\n",
    "X_train_df_sampled = pd.DataFrame()\n",
    "sample_weights = []\n",
    "\n",
    "for cls, df_label_list in df_label_list_dict.items():\n",
    "    sample_distribution_within_cls = []\n",
    "    \n",
    "    for df_label in df_label_list:\n",
    "        num_instances = df_label.shape[0]\n",
    "        num_samples = min(num_instances, num_samples_per_label)\n",
    "        \n",
    "        sample_distribution_within_cls.append(num_samples)\n",
    "        df_sampled = df_label.sample(n=num_samples, random_state=seed)\n",
    "        X_train_df_sampled = pd.concat([X_train_df_sampled, df_sampled], axis=0)\n",
    "        \n",
    "    sample_distribution_within_cls = np.array(sample_distribution_within_cls)\n",
    "    weight_per_sample_group = sample_distribution_within_cls.sum() / sample_distribution_within_cls\n",
    "    \n",
    "    for i in range(len(sample_distribution_within_cls)):\n",
    "        sample_weights += [weight_per_sample_group[i]] * sample_distribution_within_cls[i]"
   ]
  },
  {
   "cell_type": "code",
   "execution_count": null,
   "metadata": {},
   "outputs": [],
   "source": [
    "# Decompose X_train_df_sampled into X_train and y_train again:\n",
    "X_train, y_train = X_train_df_sampled.drop(columns='label'), X_train_df_sampled['label']"
   ]
  },
  {
   "cell_type": "markdown",
   "metadata": {},
   "source": [
    "## Convert specific attack types to four general attack types in y_train:"
   ]
  },
  {
   "cell_type": "code",
   "execution_count": null,
   "metadata": {},
   "outputs": [],
   "source": [
    "for attack in Probe:\n",
    "    y_train = y_train.replace(attack, 'Probe')\n",
    "    \n",
    "for attack in DoS:\n",
    "    y_train = y_train.replace(attack, 'DoS')\n",
    "    \n",
    "for attack in R2L:\n",
    "    y_train = y_train.replace(attack, 'R2L')\n",
    "    \n",
    "for attack in U2R:\n",
    "    y_train = y_train.replace(attack, 'U2R')"
   ]
  },
  {
   "cell_type": "markdown",
   "metadata": {},
   "source": [
    "## Standardize feature vectors using StandardScaler:"
   ]
  },
  {
   "cell_type": "code",
   "execution_count": null,
   "metadata": {},
   "outputs": [],
   "source": [
    "sscaler = preprocessing.StandardScaler().fit(X_train)\n",
    "X_train, X_valid, X_test = sscaler.transform(X_train), sscaler.transform(X_valid), sscaler.transform(X_test)"
   ]
  },
  {
   "cell_type": "markdown",
   "metadata": {},
   "source": [
    "## Use linear PCA to perform dimensionality reduction:\n",
    "**Warning**: linear PCA **works** with StandardScaler but **doesn't work** with RobustScaler."
   ]
  },
  {
   "cell_type": "code",
   "execution_count": null,
   "metadata": {},
   "outputs": [],
   "source": [
    "pca = PCA(n_components=X_train.shape[1], svd_solver='full')\n",
    "pca.fit(X_train)\n",
    "\n",
    "fig, ax1 = plt.subplots(figsize=(8, 4))\n",
    "graph1 = ax1.bar(np.arange(X_train.shape[1]), pca.explained_variance_ratio_, label='individual explained variance')\n",
    "ax1.tick_params(axis='y', labelcolor='blue')\n",
    "ax1.set_xlabel('Number of Principal Components')\n",
    "ax1.set_ylabel('Explained Variance Ratio')\n",
    "\n",
    "ax2 = ax1.twinx()\n",
    "graph2 = ax2.plot(np.cumsum(pca.explained_variance_ratio_), c='red', label='cumulative explained variance')\n",
    "ax2.tick_params(axis='y', labelcolor='red')\n",
    "ax2.set_ylabel('Explained Variance Ratio')\n",
    "\n",
    "index = np.nonzero(np.cumsum(pca.explained_variance_ratio_) >= 0.9)[0][0]\n",
    "graph3 = ax2.vlines(index, 0, 1, color='purple', linestyles=\"dotted\", label='90% variance is explained with {} components'.format(index+1))\n",
    "\n",
    "graphs = [graph1, graph2[0], graph3]\n",
    "labels = [g.get_label() for g in graphs]\n",
    "ax1.legend(graphs, labels, bbox_to_anchor=(1, 0.5))\n",
    "\n",
    "plt.title('Explained Variance Ratio versus Number of Principal Components')\n",
    "plt.show()"
   ]
  },
  {
   "cell_type": "code",
   "execution_count": null,
   "metadata": {},
   "outputs": [],
   "source": [
    "# Define search region for linear PCA\n",
    "components_search_linear = []"
   ]
  },
  {
   "cell_type": "markdown",
   "metadata": {},
   "source": [
    "## Use Kernel PCA to perform dimensionality reduction"
   ]
  },
  {
   "cell_type": "code",
   "execution_count": null,
   "metadata": {},
   "outputs": [],
   "source": [
    "pca = KernelPCA(n_components=X_train.shape[1], kernel='rbf')\n",
    "pca.fit_transform(X_train)\n",
    "variance_all = np.sum(pca.lambdas_)\n",
    "\n",
    "fig, ax1 = plt.subplots(figsize=(8, 4))\n",
    "graph1 = ax1.bar(np.arange(X_train.shape[1]), pca.lambdas_/variance_all, label='individual explained variance')\n",
    "ax1.tick_params(axis='y', labelcolor='blue')\n",
    "ax1.set_xlabel('Number of Principal Components')\n",
    "ax1.set_ylabel('Explained Variance Ratio')\n",
    "\n",
    "ax2 = ax1.twinx()\n",
    "graph2 = ax2.plot(np.cumsum(pca.lambdas_)/variance_all, c='red', label='cumulative explained variance')\n",
    "ax2.tick_params(axis='y', labelcolor='red')\n",
    "ax2.set_ylabel('Explained Variance Ratio')\n",
    "\n",
    "index = np.nonzero(np.cumsum(pca.lambdas_)/variance_all >= 0.9)[0][0]\n",
    "graph3 = ax2.vlines(index, 0, 1, color='purple', linestyles=\"dotted\", label='90% variance is explained with {} components'.format(index+1))\n",
    "\n",
    "graphs = [graph1, graph2[0], graph3]\n",
    "labels = [g.get_label() for g in graphs]\n",
    "ax1.legend(graphs, labels, bbox_to_anchor=(1, 0.5))\n",
    "\n",
    "plt.title('Explained Variance Ratio versus Number of Principal Components')\n",
    "plt.show()"
   ]
  },
  {
   "cell_type": "code",
   "execution_count": null,
   "metadata": {},
   "outputs": [],
   "source": [
    "# Define search region for Kernel PCA\n",
    "components_search_kernel = []"
   ]
  },
  {
   "cell_type": "markdown",
   "metadata": {},
   "source": [
    "## Make custom scorers for grid search:"
   ]
  },
  {
   "cell_type": "code",
   "execution_count": null,
   "metadata": {},
   "outputs": [],
   "source": [
    "def prob_avg_PR_scorer(clf, X, y):\n",
    "    y_pred = clf.predict_proba(X)\n",
    "    return average_precision_score(preprocessing.LabelBinarizer().fit_transform(y), y_pred, average='macro')\n",
    "\n",
    "def deci_avg_PR_scorer(clf, X, y):\n",
    "    y_pred = clf.decision_function(X)\n",
    "    return average_precision_score(preprocessing.LabelBinarizer().fit_transform(y), y_pred, average='macro')"
   ]
  },
  {
   "cell_type": "markdown",
   "metadata": {},
   "source": [
    "## Batch PCA. Aim to reduce memory usage"
   ]
  },
  {
   "cell_type": "code",
   "execution_count": null,
   "metadata": {},
   "outputs": [],
   "source": [
    "def batchPCA(pca, data, batchSize):\n",
    "    instance_num = data.shape[0]\n",
    "    batch_num = instance_num // batchSize\n",
    "    \n",
    "    for batch_idx in tqdm(range(batch_num)):\n",
    "        batch = data[0:batchSize]\n",
    "        batch_pca = pca.transform(batch)\n",
    "        if batch_idx == 0:\n",
    "            pca_result = batch_pca\n",
    "        else:\n",
    "            pca_result = np.concatenate((pca_result, batch_pca), axis=0)\n",
    "        data = np.delete(data, np.s_[0:batchSize], axis=0)\n",
    "\n",
    "    batch_pca = pca.transform(data)\n",
    "    pca_result = np.concatenate((pca_result, batch_pca), axis=0)  \n",
    "    return pca_result"
   ]
  },
  {
   "cell_type": "markdown",
   "metadata": {},
   "source": [
    "## Confusion matrix plot"
   ]
  },
  {
   "cell_type": "code",
   "execution_count": null,
   "metadata": {},
   "outputs": [],
   "source": [
    "def confusion_matrx_plot(model, valid_data, valid_label):\n",
    "\n",
    "    y_pred_valid = model.predict(valid_data)\n",
    "    cm = confusion_matrix(valid_label, y_pred_valid)\n",
    "    cm = pd.DataFrame(data=cm, index=[model.classes_], columns=[model.classes_])\n",
    "\n",
    "    percent_correct_horizontal = cm.sum(axis=1)\n",
    "    for i in range(cm.shape[0]):\n",
    "        percent_correct_horizontal.iloc[i] = cm.iloc[i, i] / percent_correct_horizontal.iloc[i]\n",
    "    percent_correct_horizontal = round(percent_correct_horizontal * 100, 2)\n",
    "    percent_correct_horizontal = percent_correct_horizontal.apply(lambda x: str(x) + '%')\n",
    "\n",
    "    percent_correct_vertical = cm.sum(axis=0)\n",
    "    for i in range(cm.shape[0]):\n",
    "        percent_correct_vertical.iloc[i] = cm.iloc[i, i] / percent_correct_vertical.iloc[i]\n",
    "    percent_correct_vertical = round(percent_correct_vertical * 100, 2)\n",
    "    percent_correct_vertical = percent_correct_vertical.apply(lambda x: str(x) + '%')\n",
    "\n",
    "    cm['Recall%'] = percent_correct_horizontal\n",
    "    percent_correct_vertical.name = ('Precision%', 5)\n",
    "    cm = cm.append(percent_correct_vertical)\n",
    "    \n",
    "    display(cm)"
   ]
  },
  {
   "cell_type": "markdown",
   "metadata": {},
   "source": [
    "## Stratified holdout validation:"
   ]
  },
  {
   "cell_type": "code",
   "execution_count": null,
   "metadata": {},
   "outputs": [],
   "source": [
    "sss = StratifiedShuffleSplit(n_splits=1, test_size=0.2, random_state=seed)"
   ]
  },
  {
   "cell_type": "markdown",
   "metadata": {},
   "source": [
    "## Stratified Cross Validation:"
   ]
  },
  {
   "cell_type": "code",
   "execution_count": null,
   "metadata": {},
   "outputs": [],
   "source": [
    "skf = StratifiedKFold(n_splits=5, shuffle=True, random_state=seed)"
   ]
  },
  {
   "cell_type": "markdown",
   "metadata": {},
   "source": [
    "# Grid Search Session\n",
    "## Linear PCA with Logistic Regression"
   ]
  },
  {
   "cell_type": "code",
   "execution_count": null,
   "metadata": {},
   "outputs": [],
   "source": [
    "# Linear PCA with Logistic Regression\n",
    "\n",
    "pipeline = Pipeline([\n",
    "    ('pca', PCA(svd_solver='full')),\n",
    "    ('model', LogisticRegression(multi_class='multinomial', class_weight='balanced', solver='lbfgs'))\n",
    "])\n",
    "\n",
    "param_grid = [\n",
    "    {\n",
    "        'pca__n_components': components_search_linear,\n",
    "        'classify__C': np.logspace(-5, 5, 30)\n",
    "    },\n",
    "]\n",
    "\n",
    "# Get best combination of pca and classifier\n",
    "grid = GridSearchCV(pipeline, param_grid, prob_avg_PR_scorer, cv=skf)\n",
    "grid.fit(X_train, y_train, sample_weights) # Note this part should use untransformed data\n",
    "display(grid.best_params_)\n",
    "\n",
    "best_combination = grid.best_estimatior # Best combination\n",
    "best_pca = best_combination.named_steps['pca'] # Best PCA\n",
    "best_clf = best_combination.named_steps['model'] # Best classifer\n",
    "\n",
    "# Transform training data by selected PCA\n",
    "best_pca.fit(X_train)\n",
    "X_valid_tmp = batchPCA(best_pca, X_valid, 20000)\n",
    "\n",
    "# Multiclass macro average PR_AUC:\n",
    "avg_PR = prob_avg_PR_scorer(best_clf, X_valid_tmp, y_valid)\n",
    "\n",
    "print (\"The best average PR_AUC for Linear PCA with Logistic Regression on validation set is {:.4f}\".format(avg_PR))\n",
    "display(best_clf.best_params_)\n",
    "\n",
    "confusion_matrx_plot(best_clf, X_valid_tmp, y_valid)"
   ]
  },
  {
   "cell_type": "markdown",
   "metadata": {},
   "source": [
    "## Linear PCA with kernel SVM"
   ]
  },
  {
   "cell_type": "code",
   "execution_count": null,
   "metadata": {},
   "outputs": [],
   "source": [
    "# Linear PCA with kernel PCA\n",
    "\n",
    "pipeline = Pipeline([\n",
    "    ('pca', PCA(svd_solver='full')),\n",
    "    ('model', SVC(kernel='rbf', decision_function_shape='ovr', class_weight='balanced'))\n",
    "])\n",
    "\n",
    "param_grid = [\n",
    "    {\n",
    "        'pca__n_components': components_search_linear,\n",
    "        'classify__C': np.logspace(-5, 5, 10),\n",
    "        'classify__gamma': np.logspace(-5, 0, 5)\n",
    "    },\n",
    "]\n",
    "\n",
    "# Get best combination of pca and classifier\n",
    "grid = GridSearchCV(pipeline, param_grid, deci_avg_PR_scorer, cv=skf)\n",
    "grid.fit(X_train, y_train, sample_weights) # Note this part should use untransformed data\n",
    "display(grid.best_params_)\n",
    "\n",
    "best_combination = grid.best_estimatior # Best combination\n",
    "best_pca = best_combination.named_steps['pca'] # Best PCA\n",
    "best_clf = best_combination.named_steps['model'] # Best classifer\n",
    "\n",
    "# Transform training data by selected PCA\n",
    "best_pca.fit(X_train)\n",
    "X_valid_tmp = batchPCA(best_pca, X_valid, 20000)\n",
    "\n",
    "# Multiclass macro average PR_AUC:\n",
    "avg_PR = deci_avg_PR_scorer(best_clf, X_valid_tmp, y_valid)\n",
    "\n",
    "print (\"The best average PR_AUC for Linear PCA with Logistic Regression on validation set is {:.4f}\".format(avg_PR))\n",
    "display(best_clf.best_params_)\n",
    "\n",
    "confusion_matrx_plot(best_clf, X_valid_tmp, y_valid)"
   ]
  },
  {
   "cell_type": "markdown",
   "metadata": {},
   "source": [
    "## Kernel PCA with Logistic regression"
   ]
  },
  {
   "cell_type": "code",
   "execution_count": null,
   "metadata": {},
   "outputs": [],
   "source": [
    "# Kernel PCA with Logistic Regression\n",
    "\n",
    "pipeline = Pipeline([ \n",
    "    ('pca', KernelPCA(kernel='rbf')),\n",
    "    ('model', LogisticRegression(multi_class='multinomial', class_weight='balanced', solver='lbfgs'))\n",
    "])\n",
    "\n",
    "param_grid = [\n",
    "    {\n",
    "        'pca__n_components': components_search_kernel,\n",
    "        'pca__gamma': np.logspace(-5, 0, num=10),\n",
    "        'classify__C': np.logspace(-5, 5, 30)\n",
    "    },\n",
    "]\n",
    "\n",
    "# Get best combination of pca and classifier\n",
    "grid = GridSearchCV(pipeline, param_grid, prob_avg_PR_scorer, cv=skf)\n",
    "grid.fit(X_train, y_train, sample_weights) # Note this part should use untransformed data\n",
    "display(grid.best_params_)\n",
    "\n",
    "best_combination = grid.best_estimatior # Best combination\n",
    "best_pca = best_combination.named_steps['pca'] # Best PCA\n",
    "best_clf = best_combination.named_steps['model'] # Best classifer\n",
    "\n",
    "# Transform training data by selected PCA\n",
    "best_pca.fit(X_train)\n",
    "X_valid_tmp = batchPCA(best_pca, X_valid, 20000)\n",
    "\n",
    "# Multiclass macro average PR_AUC:\n",
    "avg_PR = prob_avg_PR_scorer(best_clf, X_valid_tmp, y_valid)\n",
    "\n",
    "print (\"The best average PR_AUC for Linear PCA with Logistic Regression on validation set is {:.4f}\".format(avg_PR))\n",
    "display(best_clf.best_params_)\n",
    "\n",
    "confusion_matrx_plot(best_clf, X_valid_tmp, y_valid)"
   ]
  },
  {
   "cell_type": "markdown",
   "metadata": {},
   "source": [
    "## Kernel PCA with kernel SVM"
   ]
  },
  {
   "cell_type": "code",
   "execution_count": null,
   "metadata": {},
   "outputs": [],
   "source": [
    "# Kernel PCA with kernel SVM\n",
    "\n",
    "pipeline = Pipeline([    \n",
    "    ('pca', KernelPCA(kernel='rbf')),\n",
    "    ('model', LogisticRegression(multi_class='multinomial', class_weight='balanced', solver='lbfgs'))\n",
    "])\n",
    "\n",
    "param_grid = [\n",
    "    {\n",
    "        'pca__n_components': components_search_kernel,\n",
    "        'pca__gamma': np.logspace(-5, 0, num=10),\n",
    "        'classify__C': np.logspace(-5, 5, 10),\n",
    "        'classify__gamma': np.logspace(-5, 0, 5)\n",
    "    },\n",
    "]\n",
    "\n",
    "# Get best combination of pca and classifier\n",
    "grid = GridSearchCV(pipeline, param_grid, deci_avg_PR_scorer, cv=skf)\n",
    "grid.fit(X_train, y_train, sample_weights) # Note this part should use untransformed data\n",
    "display(grid.best_params_)\n",
    "\n",
    "best_combination = grid.best_estimatior # Best combination\n",
    "best_pca = best_combination.named_steps['pca'] # Best PCA\n",
    "best_clf = best_combination.named_steps['model'] # Best classifer\n",
    "\n",
    "# Transform training data by selected PCA\n",
    "best_pca.fit(X_train)\n",
    "X_valid_tmp = batchPCA(best_pca, X_valid, 20000)\n",
    "\n",
    "# Multiclass macro average PR_AUC:\n",
    "avg_PR = deci_avg_PR_scorer(best_clf, X_valid_tmp, y_valid)\n",
    "\n",
    "print (\"The best average PR_AUC for Linear PCA with Logistic Regression on validation set is {:.4f}\".format(avg_PR))\n",
    "display(best_clf.best_params_)\n",
    "\n",
    "confusion_matrx_plot(best_clf, X_valid_tmp, y_valid)"
   ]
  }
 ],
 "metadata": {
  "kernelspec": {
   "display_name": "Python 3",
   "language": "python",
   "name": "python3"
  },
  "language_info": {
   "codemirror_mode": {
    "name": "ipython",
    "version": 3
   },
   "file_extension": ".py",
   "mimetype": "text/x-python",
   "name": "python",
   "nbconvert_exporter": "python",
   "pygments_lexer": "ipython3",
   "version": "3.6.5"
  }
 },
 "nbformat": 4,
 "nbformat_minor": 2
}
