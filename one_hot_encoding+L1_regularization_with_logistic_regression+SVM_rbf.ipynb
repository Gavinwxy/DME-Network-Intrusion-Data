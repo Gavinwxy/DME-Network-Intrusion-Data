{
 "cells": [
  {
   "cell_type": "markdown",
   "metadata": {},
   "source": [
    "## Import necessary packages:"
   ]
  },
  {
   "cell_type": "code",
   "execution_count": 1,
   "metadata": {},
   "outputs": [],
   "source": [
    "import numpy as np\n",
    "import pandas as pd\n",
    "from matplotlib import pyplot as plt\n",
    "import seaborn as sns\n",
    "from sklearn import preprocessing\n",
    "from sklearn.model_selection import train_test_split, StratifiedShuffleSplit, StratifiedKFold, GridSearchCV\n",
    "from sklearn.metrics import average_precision_score, confusion_matrix\n",
    "from sklearn.linear_model import LogisticRegression\n",
    "from sklearn.svm import SVC\n",
    "\n",
    "seed = 0\n",
    "\n",
    "Probe = ['ipsweep', 'mscan', 'nmap', 'portsweep', 'saint', 'satan']\n",
    "\n",
    "DoS = ['apache2', 'back', 'land', 'mailbomb', 'neptune', 'pod', 'processtable', 'smurf', 'teardrop', 'udpstorm']\n",
    "\n",
    "R2L = ['buffer_overflow', 'httptunnel', 'loadmodule', 'perl', 'ps', 'rootkit', 'sqlattack', 'xterm']\n",
    "\n",
    "U2R = ['ftp_write', 'guess_passwd', 'imap', 'multihop', 'named', 'phf', 'sendmail', 'snmpgetattack', 'snmpguess',\n",
    "       'spy', 'warezclient', 'warezmaster', 'worm', 'xlock', 'xsnoop']"
   ]
  },
  {
   "cell_type": "markdown",
   "metadata": {},
   "source": [
    "## Import data and assign feature name to each column:"
   ]
  },
  {
   "cell_type": "code",
   "execution_count": 2,
   "metadata": {},
   "outputs": [],
   "source": [
    "columns = []\n",
    "with open('kddcup.names') as f:\n",
    "    next(f)\n",
    "    for line in f:\n",
    "        feature = line.split(':')[0]\n",
    "        columns.append(feature)\n",
    "columns.append('label')"
   ]
  },
  {
   "cell_type": "code",
   "execution_count": 3,
   "metadata": {},
   "outputs": [],
   "source": [
    "train_data = pd.read_csv('kddcup.data', header=None)\n",
    "train_data.columns = columns\n",
    "train_data['label'] = train_data['label'].apply(lambda x: x.replace('.', ''))\n",
    "\n",
    "test_data = pd.read_csv('corrected', header=None)\n",
    "test_data.columns = columns\n",
    "test_data['label'] = test_data['label'].apply(lambda x: x.replace('.', ''))"
   ]
  },
  {
   "cell_type": "code",
   "execution_count": 4,
   "metadata": {},
   "outputs": [],
   "source": [
    "boundary = train_data.shape[0]\n",
    "whole_data = pd.concat([train_data, test_data], axis=0)"
   ]
  },
  {
   "cell_type": "markdown",
   "metadata": {},
   "source": [
    "## One-hot encoding:"
   ]
  },
  {
   "cell_type": "code",
   "execution_count": 5,
   "metadata": {},
   "outputs": [],
   "source": [
    "categorical = ['protocol_type', 'service', 'flag', 'land', 'logged_in', 'is_host_login', 'is_guest_login']\n",
    "whole_data_categorical = whole_data[categorical].copy()\n",
    "whole_data.drop(columns=categorical, inplace=True)\n",
    "whole_data_categorical_T = pd.get_dummies(whole_data_categorical)\n",
    "whole_data = pd.concat([whole_data_categorical_T, whole_data], axis=1)"
   ]
  },
  {
   "cell_type": "markdown",
   "metadata": {},
   "source": [
    "## Split data into training and test set:"
   ]
  },
  {
   "cell_type": "code",
   "execution_count": 6,
   "metadata": {},
   "outputs": [],
   "source": [
    "train_data = whole_data.iloc[:boundary]\n",
    "test_data = whole_data.iloc[boundary:]\n",
    "\n",
    "X_train, y_train = train_data.drop(columns='label'), train_data['label']\n",
    "X_train, X_valid, y_train, y_valid = train_test_split(X_train, y_train, stratify=y_train, test_size=0.2, random_state=seed)\n",
    "X_test, y_test = test_data.drop(columns='label'), test_data['label']"
   ]
  },
  {
   "cell_type": "markdown",
   "metadata": {},
   "source": [
    "## Convert specific attack types to four general attack types in y_valid and y_test:"
   ]
  },
  {
   "cell_type": "code",
   "execution_count": 7,
   "metadata": {},
   "outputs": [],
   "source": [
    "for attack in Probe:\n",
    "    y_valid = y_valid.replace(attack, 'Probe')\n",
    "    y_test = y_test.replace(attack, 'Probe')\n",
    "    \n",
    "for attack in DoS:\n",
    "    y_valid = y_valid.replace(attack, 'DoS')\n",
    "    y_test = y_test.replace(attack, 'DoS')\n",
    "    \n",
    "for attack in R2L:\n",
    "    y_valid = y_valid.replace(attack, 'R2L')\n",
    "    y_test = y_test.replace(attack, 'R2L')\n",
    "    \n",
    "for attack in U2R:\n",
    "    y_valid = y_valid.replace(attack, 'U2R')\n",
    "    y_test = y_test.replace(attack, 'U2R')"
   ]
  },
  {
   "cell_type": "markdown",
   "metadata": {},
   "source": [
    "## Store preprocessed data for later usage:"
   ]
  },
  {
   "cell_type": "code",
   "execution_count": 8,
   "metadata": {},
   "outputs": [],
   "source": [
    "X_train.to_pickle(\"X_train.pkl\")\n",
    "y_train.to_pickle(\"y_train.pkl\")\n",
    "\n",
    "X_valid.to_pickle(\"X_valid.pkl\")\n",
    "y_valid.to_pickle(\"y_valid.pkl\")\n",
    "\n",
    "X_test.to_pickle(\"X_test.pkl\")\n",
    "y_test.to_pickle(\"y_test.pkl\")"
   ]
  },
  {
   "cell_type": "markdown",
   "metadata": {},
   "source": [
    "## Load preprocessed data back:"
   ]
  },
  {
   "cell_type": "code",
   "execution_count": 2,
   "metadata": {},
   "outputs": [],
   "source": [
    "X_train = pd.read_pickle(\"X_train.pkl\")\n",
    "y_train = pd.read_pickle(\"y_train.pkl\")\n",
    "\n",
    "X_valid = pd.read_pickle(\"X_valid.pkl\")\n",
    "y_valid = pd.read_pickle(\"y_valid.pkl\")\n",
    "\n",
    "X_test = pd.read_pickle(\"X_test.pkl\")\n",
    "y_test = pd.read_pickle(\"y_test.pkl\")"
   ]
  },
  {
   "cell_type": "markdown",
   "metadata": {},
   "source": [
    "## (new version) Sample a subset of training data from the original training set:"
   ]
  },
  {
   "cell_type": "code",
   "execution_count": 3,
   "metadata": {},
   "outputs": [],
   "source": [
    "# Recombine X_train and y_train into a dataframe:\n",
    "X_train_df = pd.concat([X_train, y_train], axis=1)"
   ]
  },
  {
   "cell_type": "code",
   "execution_count": 4,
   "metadata": {},
   "outputs": [],
   "source": [
    "# Divide instances by label:\n",
    "label_list = np.unique(X_train_df['label'])\n",
    "\n",
    "df_label_list_dict = {'Probe': [], 'DoS': [], 'R2L': [], 'U2R': [], 'normal': []}\n",
    "for label in label_list:\n",
    "    df_label = X_train_df[X_train_df['label'] == label]\n",
    "    \n",
    "    if label in Probe:\n",
    "        df_label_list_dict['Probe'].append(df_label)\n",
    "    elif label in DoS:\n",
    "        df_label_list_dict['DoS'].append(df_label)\n",
    "    elif label in R2L:\n",
    "        df_label_list_dict['R2L'].append(df_label)\n",
    "    elif label in U2R:\n",
    "        df_label_list_dict['U2R'].append(df_label)\n",
    "    else:\n",
    "        df_label_list_dict['normal'].append(df_label)"
   ]
  },
  {
   "cell_type": "code",
   "execution_count": 5,
   "metadata": {},
   "outputs": [],
   "source": [
    "# Determine the maximum number of instances to be sampled from each label:\n",
    "num_samples_per_label = 500\n",
    "\n",
    "X_train_df_sampled = pd.DataFrame()\n",
    "sample_weights = []\n",
    "\n",
    "for cls, df_label_list in df_label_list_dict.items():\n",
    "    sample_distribution_within_cls = []\n",
    "    \n",
    "    for df_label in df_label_list:\n",
    "        num_instances = df_label.shape[0]\n",
    "        num_samples = min(num_instances, num_samples_per_label)\n",
    "        \n",
    "        sample_distribution_within_cls.append(num_samples)\n",
    "        df_sampled = df_label.sample(n=num_samples, random_state=seed)\n",
    "        X_train_df_sampled = pd.concat([X_train_df_sampled, df_sampled], axis=0)\n",
    "        \n",
    "    sample_distribution_within_cls = np.array(sample_distribution_within_cls)\n",
    "    weight_per_sample_group = sample_distribution_within_cls.sum() / sample_distribution_within_cls\n",
    "    \n",
    "    for i in range(len(sample_distribution_within_cls)):\n",
    "        sample_weights += [weight_per_sample_group[i]] * sample_distribution_within_cls[i]"
   ]
  },
  {
   "cell_type": "code",
   "execution_count": 6,
   "metadata": {},
   "outputs": [],
   "source": [
    "# Decompose X_train_df_sampled into X_train and y_train again:\n",
    "X_train, y_train = X_train_df_sampled.drop(columns='label'), X_train_df_sampled['label']"
   ]
  },
  {
   "cell_type": "markdown",
   "metadata": {},
   "source": [
    "## (old version) Sample a subset of training data from the original training set:"
   ]
  },
  {
   "cell_type": "code",
   "execution_count": 3,
   "metadata": {},
   "outputs": [],
   "source": [
    "# Recombine X_train and y_train into a dataframe:\n",
    "X_train_df = pd.concat([X_train, y_train], axis=1)"
   ]
  },
  {
   "cell_type": "code",
   "execution_count": 4,
   "metadata": {},
   "outputs": [],
   "source": [
    "# Divide instances by label:\n",
    "label_list = np.unique(X_train_df['label'])\n",
    "\n",
    "df_label_list = []\n",
    "for label in label_list:\n",
    "    df_label_list.append(X_train_df[X_train_df['label'] == label])"
   ]
  },
  {
   "cell_type": "code",
   "execution_count": 5,
   "metadata": {},
   "outputs": [],
   "source": [
    "# Determine how many instances are sampled from each label:\n",
    "num_samples_per_label = 500\n",
    "X_train_df_sampled = pd.DataFrame()\n",
    "\n",
    "for df in df_label_list:\n",
    "    num_instances = df.shape[0]\n",
    "    \n",
    "    replace = False\n",
    "    if num_instances < num_samples_per_label:\n",
    "        replace = True\n",
    "    \n",
    "    df_sampled = df.sample(n=num_samples_per_label, replace=replace, random_state=seed)\n",
    "    X_train_df_sampled = pd.concat([X_train_df_sampled, df_sampled], axis=0)"
   ]
  },
  {
   "cell_type": "code",
   "execution_count": 6,
   "metadata": {},
   "outputs": [],
   "source": [
    "# Decompose X_train_df_sampled into X_train and y_train again:\n",
    "X_train, y_train = X_train_df_sampled.drop(columns='label'), X_train_df_sampled['label']"
   ]
  },
  {
   "cell_type": "markdown",
   "metadata": {},
   "source": [
    "## Convert specific attack types to four general attack types in y_train:"
   ]
  },
  {
   "cell_type": "code",
   "execution_count": 7,
   "metadata": {},
   "outputs": [],
   "source": [
    "for attack in Probe:\n",
    "    y_train = y_train.replace(attack, 'Probe')\n",
    "    \n",
    "for attack in DoS:\n",
    "    y_train = y_train.replace(attack, 'DoS')\n",
    "    \n",
    "for attack in R2L:\n",
    "    y_train = y_train.replace(attack, 'R2L')\n",
    "    \n",
    "for attack in U2R:\n",
    "    y_train = y_train.replace(attack, 'U2R')"
   ]
  },
  {
   "cell_type": "markdown",
   "metadata": {},
   "source": [
    "## Standardize feature vectors using StandardScaler:"
   ]
  },
  {
   "cell_type": "code",
   "execution_count": 8,
   "metadata": {},
   "outputs": [
    {
     "name": "stderr",
     "output_type": "stream",
     "text": [
      "/anaconda3/envs/dme/lib/python3.7/site-packages/sklearn/preprocessing/data.py:625: DataConversionWarning: Data with input dtype uint8, int64, float64 were all converted to float64 by StandardScaler.\n",
      "  return self.partial_fit(X, y)\n",
      "/anaconda3/envs/dme/lib/python3.7/site-packages/ipykernel_launcher.py:2: DataConversionWarning: Data with input dtype uint8, int64, float64 were all converted to float64 by StandardScaler.\n",
      "  \n",
      "/anaconda3/envs/dme/lib/python3.7/site-packages/ipykernel_launcher.py:2: DataConversionWarning: Data with input dtype uint8, int64, float64 were all converted to float64 by StandardScaler.\n",
      "  \n",
      "/anaconda3/envs/dme/lib/python3.7/site-packages/ipykernel_launcher.py:2: DataConversionWarning: Data with input dtype uint8, int64, float64 were all converted to float64 by StandardScaler.\n",
      "  \n"
     ]
    }
   ],
   "source": [
    "sscaler = preprocessing.StandardScaler().fit(X_train)\n",
    "X_train, X_valid, X_test = sscaler.transform(X_train), sscaler.transform(X_valid), sscaler.transform(X_test)"
   ]
  },
  {
   "cell_type": "markdown",
   "metadata": {},
   "source": [
    "## Stratified holdout validation:"
   ]
  },
  {
   "cell_type": "code",
   "execution_count": 9,
   "metadata": {},
   "outputs": [],
   "source": [
    "sss = StratifiedShuffleSplit(n_splits=1, test_size=0.2, random_state=seed)"
   ]
  },
  {
   "cell_type": "markdown",
   "metadata": {},
   "source": [
    "## Stratified Cross Validation:"
   ]
  },
  {
   "cell_type": "code",
   "execution_count": 10,
   "metadata": {},
   "outputs": [],
   "source": [
    "skf = StratifiedKFold(n_splits=5, shuffle=True, random_state=seed)"
   ]
  },
  {
   "cell_type": "markdown",
   "metadata": {},
   "source": [
    "## Softmax Regression for multinomial classification:\n",
    "### Linear decision boundary:\n",
    "Combine L1 regularization for **embedded** feature selection. <br/>\n",
    "Can also serve as a feature selection **wrapper** for the subsequent SVM."
   ]
  },
  {
   "cell_type": "code",
   "execution_count": 11,
   "metadata": {},
   "outputs": [
    {
     "name": "stderr",
     "output_type": "stream",
     "text": [
      "/anaconda3/envs/dme/lib/python3.7/site-packages/sklearn/linear_model/sag.py:334: ConvergenceWarning: The max_iter was reached which means the coef_ did not converge\n",
      "  \"the coef_ did not converge\", ConvergenceWarning)\n",
      "/anaconda3/envs/dme/lib/python3.7/site-packages/sklearn/linear_model/sag.py:334: ConvergenceWarning: The max_iter was reached which means the coef_ did not converge\n",
      "  \"the coef_ did not converge\", ConvergenceWarning)\n",
      "/anaconda3/envs/dme/lib/python3.7/site-packages/sklearn/linear_model/sag.py:334: ConvergenceWarning: The max_iter was reached which means the coef_ did not converge\n",
      "  \"the coef_ did not converge\", ConvergenceWarning)\n",
      "/anaconda3/envs/dme/lib/python3.7/site-packages/sklearn/linear_model/sag.py:334: ConvergenceWarning: The max_iter was reached which means the coef_ did not converge\n",
      "  \"the coef_ did not converge\", ConvergenceWarning)\n",
      "/anaconda3/envs/dme/lib/python3.7/site-packages/sklearn/linear_model/sag.py:334: ConvergenceWarning: The max_iter was reached which means the coef_ did not converge\n",
      "  \"the coef_ did not converge\", ConvergenceWarning)\n",
      "/anaconda3/envs/dme/lib/python3.7/site-packages/sklearn/linear_model/sag.py:334: ConvergenceWarning: The max_iter was reached which means the coef_ did not converge\n",
      "  \"the coef_ did not converge\", ConvergenceWarning)\n",
      "/anaconda3/envs/dme/lib/python3.7/site-packages/sklearn/linear_model/sag.py:334: ConvergenceWarning: The max_iter was reached which means the coef_ did not converge\n",
      "  \"the coef_ did not converge\", ConvergenceWarning)\n",
      "/anaconda3/envs/dme/lib/python3.7/site-packages/sklearn/linear_model/sag.py:334: ConvergenceWarning: The max_iter was reached which means the coef_ did not converge\n",
      "  \"the coef_ did not converge\", ConvergenceWarning)\n",
      "/anaconda3/envs/dme/lib/python3.7/site-packages/sklearn/linear_model/sag.py:334: ConvergenceWarning: The max_iter was reached which means the coef_ did not converge\n",
      "  \"the coef_ did not converge\", ConvergenceWarning)\n",
      "/anaconda3/envs/dme/lib/python3.7/site-packages/sklearn/linear_model/sag.py:334: ConvergenceWarning: The max_iter was reached which means the coef_ did not converge\n",
      "  \"the coef_ did not converge\", ConvergenceWarning)\n",
      "/anaconda3/envs/dme/lib/python3.7/site-packages/sklearn/linear_model/sag.py:334: ConvergenceWarning: The max_iter was reached which means the coef_ did not converge\n",
      "  \"the coef_ did not converge\", ConvergenceWarning)\n",
      "/anaconda3/envs/dme/lib/python3.7/site-packages/sklearn/linear_model/sag.py:334: ConvergenceWarning: The max_iter was reached which means the coef_ did not converge\n",
      "  \"the coef_ did not converge\", ConvergenceWarning)\n",
      "/anaconda3/envs/dme/lib/python3.7/site-packages/sklearn/linear_model/sag.py:334: ConvergenceWarning: The max_iter was reached which means the coef_ did not converge\n",
      "  \"the coef_ did not converge\", ConvergenceWarning)\n",
      "/anaconda3/envs/dme/lib/python3.7/site-packages/sklearn/linear_model/sag.py:334: ConvergenceWarning: The max_iter was reached which means the coef_ did not converge\n",
      "  \"the coef_ did not converge\", ConvergenceWarning)\n",
      "/anaconda3/envs/dme/lib/python3.7/site-packages/sklearn/linear_model/sag.py:334: ConvergenceWarning: The max_iter was reached which means the coef_ did not converge\n",
      "  \"the coef_ did not converge\", ConvergenceWarning)\n",
      "/anaconda3/envs/dme/lib/python3.7/site-packages/sklearn/linear_model/sag.py:334: ConvergenceWarning: The max_iter was reached which means the coef_ did not converge\n",
      "  \"the coef_ did not converge\", ConvergenceWarning)\n",
      "/anaconda3/envs/dme/lib/python3.7/site-packages/sklearn/linear_model/sag.py:334: ConvergenceWarning: The max_iter was reached which means the coef_ did not converge\n",
      "  \"the coef_ did not converge\", ConvergenceWarning)\n",
      "/anaconda3/envs/dme/lib/python3.7/site-packages/sklearn/linear_model/sag.py:334: ConvergenceWarning: The max_iter was reached which means the coef_ did not converge\n",
      "  \"the coef_ did not converge\", ConvergenceWarning)\n",
      "/anaconda3/envs/dme/lib/python3.7/site-packages/sklearn/linear_model/sag.py:334: ConvergenceWarning: The max_iter was reached which means the coef_ did not converge\n",
      "  \"the coef_ did not converge\", ConvergenceWarning)\n",
      "/anaconda3/envs/dme/lib/python3.7/site-packages/sklearn/linear_model/sag.py:334: ConvergenceWarning: The max_iter was reached which means the coef_ did not converge\n",
      "  \"the coef_ did not converge\", ConvergenceWarning)\n",
      "/anaconda3/envs/dme/lib/python3.7/site-packages/sklearn/linear_model/sag.py:334: ConvergenceWarning: The max_iter was reached which means the coef_ did not converge\n",
      "  \"the coef_ did not converge\", ConvergenceWarning)\n",
      "/anaconda3/envs/dme/lib/python3.7/site-packages/sklearn/linear_model/sag.py:334: ConvergenceWarning: The max_iter was reached which means the coef_ did not converge\n",
      "  \"the coef_ did not converge\", ConvergenceWarning)\n",
      "/anaconda3/envs/dme/lib/python3.7/site-packages/sklearn/linear_model/sag.py:334: ConvergenceWarning: The max_iter was reached which means the coef_ did not converge\n",
      "  \"the coef_ did not converge\", ConvergenceWarning)\n",
      "/anaconda3/envs/dme/lib/python3.7/site-packages/sklearn/linear_model/sag.py:334: ConvergenceWarning: The max_iter was reached which means the coef_ did not converge\n",
      "  \"the coef_ did not converge\", ConvergenceWarning)\n",
      "/anaconda3/envs/dme/lib/python3.7/site-packages/sklearn/linear_model/sag.py:334: ConvergenceWarning: The max_iter was reached which means the coef_ did not converge\n",
      "  \"the coef_ did not converge\", ConvergenceWarning)\n",
      "/anaconda3/envs/dme/lib/python3.7/site-packages/sklearn/linear_model/sag.py:334: ConvergenceWarning: The max_iter was reached which means the coef_ did not converge\n",
      "  \"the coef_ did not converge\", ConvergenceWarning)\n",
      "/anaconda3/envs/dme/lib/python3.7/site-packages/sklearn/linear_model/sag.py:334: ConvergenceWarning: The max_iter was reached which means the coef_ did not converge\n",
      "  \"the coef_ did not converge\", ConvergenceWarning)\n",
      "/anaconda3/envs/dme/lib/python3.7/site-packages/sklearn/linear_model/sag.py:334: ConvergenceWarning: The max_iter was reached which means the coef_ did not converge\n",
      "  \"the coef_ did not converge\", ConvergenceWarning)\n",
      "/anaconda3/envs/dme/lib/python3.7/site-packages/sklearn/linear_model/sag.py:334: ConvergenceWarning: The max_iter was reached which means the coef_ did not converge\n",
      "  \"the coef_ did not converge\", ConvergenceWarning)\n",
      "/anaconda3/envs/dme/lib/python3.7/site-packages/sklearn/linear_model/sag.py:334: ConvergenceWarning: The max_iter was reached which means the coef_ did not converge\n",
      "  \"the coef_ did not converge\", ConvergenceWarning)\n",
      "/anaconda3/envs/dme/lib/python3.7/site-packages/sklearn/linear_model/sag.py:334: ConvergenceWarning: The max_iter was reached which means the coef_ did not converge\n",
      "  \"the coef_ did not converge\", ConvergenceWarning)\n",
      "/anaconda3/envs/dme/lib/python3.7/site-packages/sklearn/linear_model/sag.py:334: ConvergenceWarning: The max_iter was reached which means the coef_ did not converge\n",
      "  \"the coef_ did not converge\", ConvergenceWarning)\n",
      "/anaconda3/envs/dme/lib/python3.7/site-packages/sklearn/linear_model/sag.py:334: ConvergenceWarning: The max_iter was reached which means the coef_ did not converge\n",
      "  \"the coef_ did not converge\", ConvergenceWarning)\n",
      "/anaconda3/envs/dme/lib/python3.7/site-packages/sklearn/linear_model/sag.py:334: ConvergenceWarning: The max_iter was reached which means the coef_ did not converge\n",
      "  \"the coef_ did not converge\", ConvergenceWarning)\n",
      "/anaconda3/envs/dme/lib/python3.7/site-packages/sklearn/linear_model/sag.py:334: ConvergenceWarning: The max_iter was reached which means the coef_ did not converge\n",
      "  \"the coef_ did not converge\", ConvergenceWarning)\n",
      "/anaconda3/envs/dme/lib/python3.7/site-packages/sklearn/linear_model/sag.py:334: ConvergenceWarning: The max_iter was reached which means the coef_ did not converge\n",
      "  \"the coef_ did not converge\", ConvergenceWarning)\n",
      "/anaconda3/envs/dme/lib/python3.7/site-packages/sklearn/linear_model/sag.py:334: ConvergenceWarning: The max_iter was reached which means the coef_ did not converge\n",
      "  \"the coef_ did not converge\", ConvergenceWarning)\n",
      "/anaconda3/envs/dme/lib/python3.7/site-packages/sklearn/linear_model/sag.py:334: ConvergenceWarning: The max_iter was reached which means the coef_ did not converge\n",
      "  \"the coef_ did not converge\", ConvergenceWarning)\n"
     ]
    },
    {
     "name": "stderr",
     "output_type": "stream",
     "text": [
      "/anaconda3/envs/dme/lib/python3.7/site-packages/sklearn/linear_model/sag.py:334: ConvergenceWarning: The max_iter was reached which means the coef_ did not converge\n",
      "  \"the coef_ did not converge\", ConvergenceWarning)\n",
      "/anaconda3/envs/dme/lib/python3.7/site-packages/sklearn/linear_model/sag.py:334: ConvergenceWarning: The max_iter was reached which means the coef_ did not converge\n",
      "  \"the coef_ did not converge\", ConvergenceWarning)\n"
     ]
    },
    {
     "name": "stdout",
     "output_type": "stream",
     "text": [
      "The best average PR score for Logistic Regression on validation set is 0.6619\n"
     ]
    },
    {
     "data": {
      "text/plain": [
       "{'C': 599.4842503189421}"
      ]
     },
     "metadata": {},
     "output_type": "display_data"
    }
   ],
   "source": [
    "parameters = {\n",
    "    'C': np.logspace(-5, 5, 10)\n",
    "}\n",
    "\n",
    "# L1 regularization mimics the feature selection process due to its sparsity.\n",
    "gs_lgr = GridSearchCV(LogisticRegression(multi_class='multinomial', penalty='l1', class_weight='balanced', solver='saga'), parameters, cv=skf)\n",
    "gs_lgr.fit(X_train, y_train, sample_weights)\n",
    "\n",
    "lgr = gs_lgr.best_estimator_\n",
    "y_pred_valid = lgr.predict_proba(X_valid)\n",
    "\n",
    "# Multiclass average PR score:\n",
    "avg_PR = 0\n",
    "for i, label in enumerate(lgr.classes_):\n",
    "    y_valid_label = (y_valid == label).astype(int)\n",
    "    y_pred_valid_label = y_pred_valid[:, i]\n",
    "    avg_PR += average_precision_score(y_valid_label, y_pred_valid_label)\n",
    "    \n",
    "avg_PR /= len(lgr.classes_)\n",
    "\n",
    "print (\"The best average PR score for Logistic Regression on validation set is {:.4f}\".format(avg_PR))\n",
    "display(gs_lgr.best_params_)"
   ]
  },
  {
   "cell_type": "markdown",
   "metadata": {},
   "source": [
    "## Plot confusion matrix of Softmax Regression on validation set:"
   ]
  },
  {
   "cell_type": "code",
   "execution_count": 12,
   "metadata": {},
   "outputs": [],
   "source": [
    "y_pred_valid = lgr.predict(X_valid)\n",
    "cm = confusion_matrix(y_valid, y_pred_valid)\n",
    "cm = pd.DataFrame(data=cm, index=[lgr.classes_], columns=[lgr.classes_])"
   ]
  },
  {
   "cell_type": "code",
   "execution_count": 13,
   "metadata": {},
   "outputs": [],
   "source": [
    "percent_correct_horizontal = cm.sum(axis=1)\n",
    "for i in range(cm.shape[0]):\n",
    "    percent_correct_horizontal.iloc[i] = cm.iloc[i, i] / percent_correct_horizontal.iloc[i]\n",
    "percent_correct_horizontal = round(percent_correct_horizontal * 100, 2)\n",
    "percent_correct_horizontal = percent_correct_horizontal.apply(lambda x: str(x) + '%')"
   ]
  },
  {
   "cell_type": "code",
   "execution_count": 14,
   "metadata": {},
   "outputs": [],
   "source": [
    "percent_correct_vertical = cm.sum(axis=0)\n",
    "for i in range(cm.shape[0]):\n",
    "    percent_correct_vertical.iloc[i] = cm.iloc[i, i] / percent_correct_vertical.iloc[i]\n",
    "percent_correct_vertical = round(percent_correct_vertical * 100, 2)\n",
    "percent_correct_vertical = percent_correct_vertical.apply(lambda x: str(x) + '%')"
   ]
  },
  {
   "cell_type": "code",
   "execution_count": 15,
   "metadata": {},
   "outputs": [
    {
     "data": {
      "text/html": [
       "<div>\n",
       "<style scoped>\n",
       "    .dataframe tbody tr th:only-of-type {\n",
       "        vertical-align: middle;\n",
       "    }\n",
       "\n",
       "    .dataframe tbody tr th {\n",
       "        vertical-align: top;\n",
       "    }\n",
       "\n",
       "    .dataframe thead tr th {\n",
       "        text-align: left;\n",
       "    }\n",
       "</style>\n",
       "<table border=\"1\" class=\"dataframe\">\n",
       "  <thead>\n",
       "    <tr>\n",
       "      <th></th>\n",
       "      <th>DoS</th>\n",
       "      <th>Probe</th>\n",
       "      <th>R2L</th>\n",
       "      <th>U2R</th>\n",
       "      <th>normal</th>\n",
       "      <th>%correct</th>\n",
       "    </tr>\n",
       "  </thead>\n",
       "  <tbody>\n",
       "    <tr>\n",
       "      <th>DoS</th>\n",
       "      <td>774560</td>\n",
       "      <td>1212</td>\n",
       "      <td>326</td>\n",
       "      <td>548</td>\n",
       "      <td>29</td>\n",
       "      <td>99.73%</td>\n",
       "    </tr>\n",
       "    <tr>\n",
       "      <th>Probe</th>\n",
       "      <td>38</td>\n",
       "      <td>8067</td>\n",
       "      <td>66</td>\n",
       "      <td>21</td>\n",
       "      <td>28</td>\n",
       "      <td>98.14%</td>\n",
       "    </tr>\n",
       "    <tr>\n",
       "      <th>R2L</th>\n",
       "      <td>0</td>\n",
       "      <td>0</td>\n",
       "      <td>8</td>\n",
       "      <td>3</td>\n",
       "      <td>0</td>\n",
       "      <td>72.73%</td>\n",
       "    </tr>\n",
       "    <tr>\n",
       "      <th>U2R</th>\n",
       "      <td>1</td>\n",
       "      <td>0</td>\n",
       "      <td>3</td>\n",
       "      <td>221</td>\n",
       "      <td>0</td>\n",
       "      <td>98.22%</td>\n",
       "    </tr>\n",
       "    <tr>\n",
       "      <th>normal</th>\n",
       "      <td>795</td>\n",
       "      <td>2372</td>\n",
       "      <td>1580</td>\n",
       "      <td>6799</td>\n",
       "      <td>183010</td>\n",
       "      <td>94.07%</td>\n",
       "    </tr>\n",
       "    <tr>\n",
       "      <th>%Correct</th>\n",
       "      <td>99.89%</td>\n",
       "      <td>69.24%</td>\n",
       "      <td>0.4%</td>\n",
       "      <td>2.91%</td>\n",
       "      <td>99.97%</td>\n",
       "      <td>NaN</td>\n",
       "    </tr>\n",
       "  </tbody>\n",
       "</table>\n",
       "</div>"
      ],
      "text/plain": [
       "             DoS   Probe   R2L    U2R  normal %correct\n",
       "DoS       774560    1212   326    548      29   99.73%\n",
       "Probe         38    8067    66     21      28   98.14%\n",
       "R2L            0       0     8      3       0   72.73%\n",
       "U2R            1       0     3    221       0   98.22%\n",
       "normal       795    2372  1580   6799  183010   94.07%\n",
       "%Correct  99.89%  69.24%  0.4%  2.91%  99.97%      NaN"
      ]
     },
     "metadata": {},
     "output_type": "display_data"
    }
   ],
   "source": [
    "cm['%correct'] = percent_correct_horizontal\n",
    "percent_correct_vertical.name = ('%Correct', 5)\n",
    "cm = cm.append(percent_correct_vertical)\n",
    "display(cm)"
   ]
  },
  {
   "cell_type": "markdown",
   "metadata": {},
   "source": [
    "## Perform feature selection through the weights of previous Logistic Regression model:"
   ]
  },
  {
   "cell_type": "code",
   "execution_count": 16,
   "metadata": {},
   "outputs": [
    {
     "data": {
      "text/plain": [
       "Index(['land', 'logged_in', 'is_guest_login', 'protocol_type_icmp',\n",
       "       'protocol_type_tcp', 'protocol_type_udp', 'service_Z39_50',\n",
       "       'service_auth', 'service_bgp', 'service_csnet_ns', 'service_ctf',\n",
       "       'service_daytime', 'service_discard', 'service_domain',\n",
       "       'service_domain_u', 'service_eco_i', 'service_ecr_i', 'service_exec',\n",
       "       'service_finger', 'service_ftp', 'service_ftp_data', 'service_gopher',\n",
       "       'service_hostnames', 'service_http', 'service_imap4', 'service_kshell',\n",
       "       'service_ldap', 'service_link', 'service_login', 'service_mtp',\n",
       "       'service_name', 'service_netbios_dgm', 'service_netstat',\n",
       "       'service_nnsp', 'service_nntp', 'service_ntp_u', 'service_other',\n",
       "       'service_pop_3', 'service_printer', 'service_private',\n",
       "       'service_remote_job', 'service_shell', 'service_smtp',\n",
       "       'service_sql_net', 'service_ssh', 'service_supdup', 'service_systat',\n",
       "       'service_telnet', 'service_tim_i', 'service_time', 'service_urp_i',\n",
       "       'service_uucp_path', 'service_vmnet', 'service_whois', 'flag_OTH',\n",
       "       'flag_REJ', 'flag_RSTO', 'flag_RSTOS0', 'flag_RSTR', 'flag_S0',\n",
       "       'flag_S1', 'flag_S2', 'flag_S3', 'flag_SF', 'flag_SH', 'duration',\n",
       "       'src_bytes', 'dst_bytes', 'wrong_fragment', 'urgent', 'hot',\n",
       "       'num_failed_logins', 'num_compromised', 'root_shell', 'su_attempted',\n",
       "       'num_root', 'num_file_creations', 'num_shells', 'num_access_files',\n",
       "       'count', 'srv_count', 'serror_rate', 'srv_serror_rate', 'rerror_rate',\n",
       "       'srv_rerror_rate', 'same_srv_rate', 'diff_srv_rate',\n",
       "       'srv_diff_host_rate', 'dst_host_count', 'dst_host_srv_count',\n",
       "       'dst_host_same_srv_rate', 'dst_host_diff_srv_rate',\n",
       "       'dst_host_same_src_port_rate', 'dst_host_srv_diff_host_rate',\n",
       "       'dst_host_serror_rate', 'dst_host_srv_serror_rate',\n",
       "       'dst_host_rerror_rate', 'dst_host_srv_rerror_rate'],\n",
       "      dtype='object')"
      ]
     },
     "metadata": {},
     "output_type": "display_data"
    }
   ],
   "source": [
    "weights_across_classes = np.sum(lgr.coef_, axis=0)\n",
    "idx_selected_features = np.nonzero(weights_across_classes)[0]\n",
    "selected_features = X_train_df.columns[idx_selected_features]\n",
    "display(selected_features)\n",
    "\n",
    "X_train, X_valid, X_test = X_train[:, idx_selected_features], X_valid[:, idx_selected_features], X_test[:, idx_selected_features]"
   ]
  },
  {
   "cell_type": "markdown",
   "metadata": {},
   "source": [
    "## SVM with radial basis function (rbf) kernel for OvR multiclass classification:\n",
    "### Non-linear decision boundary:"
   ]
  },
  {
   "cell_type": "code",
   "execution_count": null,
   "metadata": {},
   "outputs": [],
   "source": [
    "parameters = {\n",
    "    'C': np.logspace(-5, 5, 10),\n",
    "    'gamma': np.logspace(-5, 0, 5)\n",
    "}\n",
    "\n",
    "gs_svm_rbf = GridSearchCV(SVC(kernel='rbf', decision_function_shape='ovr', class_weight='balanced'), parameters, cv=skf)\n",
    "gs_svm_rbf.fit(X_train, y_train)\n",
    "\n",
    "svm_rbf = gs_svm_rbf.best_estimator_\n",
    "y_pred_valid = svm_rbf.decision_function(X_valid)\n",
    "\n",
    "# Multiclass average PR score:\n",
    "avg_PR = 0\n",
    "for i, label in enumerate(svm_rbf.classes_):\n",
    "    y_valid_label = (y_valid == label).astype(int)\n",
    "    y_pred_valid_label = y_pred_valid[:, i]\n",
    "    avg_PR += average_precision_score(y_valid_label, y_pred_valid_label)\n",
    "    \n",
    "avg_PR /= len(svm_rbf.classes_)\n",
    "\n",
    "print (\"The best average PR score for Support Vector Machine with rbf kernel on validation set is {:.4f}\".format(avg_PR))\n",
    "display(gs_svm_rbf.best_params_)"
   ]
  },
  {
   "cell_type": "markdown",
   "metadata": {},
   "source": [
    "## Plot confusion matrix of SVM on validation set:"
   ]
  },
  {
   "cell_type": "code",
   "execution_count": 23,
   "metadata": {},
   "outputs": [],
   "source": [
    "y_pred_valid = svm_rbf.predict(X_valid)\n",
    "cm = confusion_matrix(y_valid, y_pred_valid)\n",
    "cm = pd.DataFrame(data=cm, index=[svm_rbf.classes_], columns=[svm_rbf.classes_])"
   ]
  },
  {
   "cell_type": "code",
   "execution_count": 24,
   "metadata": {},
   "outputs": [],
   "source": [
    "percent_correct_horizontal = cm.sum(axis=1)\n",
    "for i in range(cm.shape[0]):\n",
    "    percent_correct_horizontal.iloc[i] = cm.iloc[i, i] / percent_correct_horizontal.iloc[i]\n",
    "percent_correct_horizontal = round(percent_correct_horizontal * 100, 2)\n",
    "percent_correct_horizontal = percent_correct_horizontal.apply(lambda x: str(x) + '%')"
   ]
  },
  {
   "cell_type": "code",
   "execution_count": 25,
   "metadata": {},
   "outputs": [],
   "source": [
    "percent_correct_vertical = cm.sum(axis=0)\n",
    "for i in range(cm.shape[0]):\n",
    "    percent_correct_vertical.iloc[i] = cm.iloc[i, i] / percent_correct_vertical.iloc[i]\n",
    "percent_correct_vertical = round(percent_correct_vertical * 100, 2)\n",
    "percent_correct_vertical = percent_correct_vertical.apply(lambda x: str(x) + '%')"
   ]
  },
  {
   "cell_type": "code",
   "execution_count": 26,
   "metadata": {},
   "outputs": [
    {
     "data": {
      "text/html": [
       "<div>\n",
       "<style scoped>\n",
       "    .dataframe tbody tr th:only-of-type {\n",
       "        vertical-align: middle;\n",
       "    }\n",
       "\n",
       "    .dataframe tbody tr th {\n",
       "        vertical-align: top;\n",
       "    }\n",
       "\n",
       "    .dataframe thead tr th {\n",
       "        text-align: left;\n",
       "    }\n",
       "</style>\n",
       "<table border=\"1\" class=\"dataframe\">\n",
       "  <thead>\n",
       "    <tr>\n",
       "      <th></th>\n",
       "      <th>DoS</th>\n",
       "      <th>Probe</th>\n",
       "      <th>R2L</th>\n",
       "      <th>U2R</th>\n",
       "      <th>normal</th>\n",
       "      <th>%correct</th>\n",
       "    </tr>\n",
       "  </thead>\n",
       "  <tbody>\n",
       "    <tr>\n",
       "      <th>DoS</th>\n",
       "      <td>774142</td>\n",
       "      <td>1768</td>\n",
       "      <td>0</td>\n",
       "      <td>143</td>\n",
       "      <td>622</td>\n",
       "      <td>99.67%</td>\n",
       "    </tr>\n",
       "    <tr>\n",
       "      <th>Probe</th>\n",
       "      <td>37</td>\n",
       "      <td>8087</td>\n",
       "      <td>61</td>\n",
       "      <td>14</td>\n",
       "      <td>21</td>\n",
       "      <td>98.38%</td>\n",
       "    </tr>\n",
       "    <tr>\n",
       "      <th>R2L</th>\n",
       "      <td>0</td>\n",
       "      <td>0</td>\n",
       "      <td>6</td>\n",
       "      <td>5</td>\n",
       "      <td>0</td>\n",
       "      <td>54.55%</td>\n",
       "    </tr>\n",
       "    <tr>\n",
       "      <th>U2R</th>\n",
       "      <td>0</td>\n",
       "      <td>3</td>\n",
       "      <td>2</td>\n",
       "      <td>206</td>\n",
       "      <td>14</td>\n",
       "      <td>91.56%</td>\n",
       "    </tr>\n",
       "    <tr>\n",
       "      <th>normal</th>\n",
       "      <td>834</td>\n",
       "      <td>2032</td>\n",
       "      <td>1269</td>\n",
       "      <td>2273</td>\n",
       "      <td>188148</td>\n",
       "      <td>96.71%</td>\n",
       "    </tr>\n",
       "    <tr>\n",
       "      <th>%Correct</th>\n",
       "      <td>99.89%</td>\n",
       "      <td>68.02%</td>\n",
       "      <td>0.45%</td>\n",
       "      <td>7.8%</td>\n",
       "      <td>99.65%</td>\n",
       "      <td>NaN</td>\n",
       "    </tr>\n",
       "  </tbody>\n",
       "</table>\n",
       "</div>"
      ],
      "text/plain": [
       "             DoS   Probe    R2L   U2R  normal %correct\n",
       "DoS       774142    1768      0   143     622   99.67%\n",
       "Probe         37    8087     61    14      21   98.38%\n",
       "R2L            0       0      6     5       0   54.55%\n",
       "U2R            0       3      2   206      14   91.56%\n",
       "normal       834    2032   1269  2273  188148   96.71%\n",
       "%Correct  99.89%  68.02%  0.45%  7.8%  99.65%      NaN"
      ]
     },
     "metadata": {},
     "output_type": "display_data"
    }
   ],
   "source": [
    "cm['%correct'] = percent_correct_horizontal\n",
    "percent_correct_vertical.name = ('%Correct', 5)\n",
    "cm = cm.append(percent_correct_vertical)\n",
    "display(cm)"
   ]
  }
 ],
 "metadata": {
  "kernelspec": {
   "display_name": "Python 3",
   "language": "python",
   "name": "python3"
  },
  "language_info": {
   "codemirror_mode": {
    "name": "ipython",
    "version": 3
   },
   "file_extension": ".py",
   "mimetype": "text/x-python",
   "name": "python",
   "nbconvert_exporter": "python",
   "pygments_lexer": "ipython3",
   "version": "3.7.1"
  }
 },
 "nbformat": 4,
 "nbformat_minor": 2
}
