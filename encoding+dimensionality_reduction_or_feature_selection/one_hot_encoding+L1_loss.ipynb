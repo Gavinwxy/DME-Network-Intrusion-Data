{
 "cells": [
  {
   "cell_type": "markdown",
   "metadata": {},
   "source": [
    "## Import necessary packages:"
   ]
  },
  {
   "cell_type": "code",
   "execution_count": 1,
   "metadata": {},
   "outputs": [],
   "source": [
    "import numpy as np\n",
    "import pandas as pd\n",
    "from matplotlib import pyplot as plt\n",
    "import seaborn as sns\n",
    "from sklearn import preprocessing\n",
    "from sklearn.model_selection import train_test_split, StratifiedShuffleSplit, GridSearchCV\n",
    "from sklearn.decomposition import PCA\n",
    "from sklearn.metrics import roc_auc_score\n",
    "from sklearn.linear_model import LogisticRegression"
   ]
  },
  {
   "cell_type": "markdown",
   "metadata": {},
   "source": [
    "## Import data and assign feature name to each column:"
   ]
  },
  {
   "cell_type": "code",
   "execution_count": 2,
   "metadata": {},
   "outputs": [],
   "source": [
    "columns = []\n",
    "with open('kddcup.names') as f:\n",
    "    next(f)\n",
    "    for line in f:\n",
    "        feature = line.split(':')[0]\n",
    "        columns.append(feature)\n",
    "columns.append('label')"
   ]
  },
  {
   "cell_type": "code",
   "execution_count": 3,
   "metadata": {},
   "outputs": [],
   "source": [
    "train_data = pd.read_csv('kddcup.data', header=None)\n",
    "train_data.columns = columns\n",
    "train_data['label'] = train_data['label'].apply(lambda x: x.replace('.', ''))\n",
    "\n",
    "test_data = pd.read_csv('corrected', header=None)\n",
    "test_data.columns = columns\n",
    "test_data['label'] = test_data['label'].apply(lambda x: x.replace('.', ''))"
   ]
  },
  {
   "cell_type": "code",
   "execution_count": 4,
   "metadata": {},
   "outputs": [],
   "source": [
    "boundary = train_data.shape[0]\n",
    "whole_data = pd.concat([train_data, test_data], axis=0)"
   ]
  },
  {
   "cell_type": "markdown",
   "metadata": {},
   "source": [
    "## One-hot encoding:"
   ]
  },
  {
   "cell_type": "code",
   "execution_count": 5,
   "metadata": {},
   "outputs": [],
   "source": [
    "categorical = ['protocol_type', 'service', 'flag', 'land', 'logged_in', 'is_host_login', 'is_guest_login']\n",
    "whole_data_categorical = whole_data[categorical].copy()\n",
    "whole_data.drop(columns=categorical, inplace=True)\n",
    "whole_data_categorical_T = pd.get_dummies(whole_data_categorical)\n",
    "whole_data = pd.concat([whole_data_categorical_T, whole_data], axis=1)"
   ]
  },
  {
   "cell_type": "markdown",
   "metadata": {},
   "source": [
    "## Split data into training and test set:"
   ]
  },
  {
   "cell_type": "code",
   "execution_count": null,
   "metadata": {},
   "outputs": [],
   "source": [
    "train_data = whole_data.iloc[:boundary]\n",
    "test_data = whole_data.iloc[boundary:]\n",
    "\n",
    "X_train, y_train = train_data.drop(columns='label'), train_data['label']\n",
    "X_train, X_valid, y_train, y_valid = train_test_split(X_train, y_train, stratify=y_train, test_size=0.2, random_state=0)\n",
    "X_test, y_test = test_data.drop(columns='label'), test_data['label']"
   ]
  },
  {
   "cell_type": "markdown",
   "metadata": {},
   "source": [
    "## Store preprocessed data for later usage:"
   ]
  },
  {
   "cell_type": "code",
   "execution_count": 7,
   "metadata": {},
   "outputs": [],
   "source": [
    "np.save(\"X_train.npy\", X_train)\n",
    "np.save(\"y_train.npy\", y_train)\n",
    "\n",
    "np.save(\"X_valid.npy\", X_valid)\n",
    "np.save(\"y_valid.npy\", y_valid)\n",
    "\n",
    "np.save(\"X_test.npy\", X_test)\n",
    "np.save(\"y_test.npy\", y_test)"
   ]
  },
  {
   "cell_type": "markdown",
   "metadata": {},
   "source": [
    "## Load preprocessed data back:"
   ]
  },
  {
   "cell_type": "code",
   "execution_count": 8,
   "metadata": {},
   "outputs": [],
   "source": [
    "X_train = np.load(\"X_train.npy\")\n",
    "y_train = np.load(\"y_train.npy\")\n",
    "\n",
    "X_valid = np.load(\"X_valid.npy\")\n",
    "y_valid = np.load(\"y_valid.npy\")\n",
    "\n",
    "X_test = np.load(\"X_test.npy\")\n",
    "y_test = np.load(\"y_test.npy\")"
   ]
  },
  {
   "cell_type": "markdown",
   "metadata": {},
   "source": [
    "## Standardize feature vectors using StandardScaler:"
   ]
  },
  {
   "cell_type": "code",
   "execution_count": 9,
   "metadata": {},
   "outputs": [],
   "source": [
    "sscaler = preprocessing.StandardScaler().fit(X_train)\n",
    "X_train, X_valid, X_test = sscaler.transform(X_train), sscaler.transform(X_valid), sscaler.transform(X_test)"
   ]
  },
  {
   "cell_type": "markdown",
   "metadata": {},
   "source": [
    "## Logistic Regression for OvR multiclass classification:"
   ]
  },
  {
   "cell_type": "code",
   "execution_count": null,
   "metadata": {},
   "outputs": [],
   "source": [
    "# Stratified holdout validation:\n",
    "sss = StratifiedShuffleSplit(n_splits=1, test_size=0.2, random_state=0)\n",
    "\n",
    "parameters = {\n",
    "    #'C': np.logspace(-5, 5, 30)\n",
    "    'C': [1]\n",
    "}\n",
    "\n",
    "# L1 regularization mimics the feature selection process due to its sparsity.\n",
    "# OvR easily handles unknown test class problem.\n",
    "gs_smr = GridSearchCV(LogisticRegression(multi_class='ovr', penalty='l1', class_weight='balanced', solver='saga'), parameters, cv=sss)\n",
    "gs_smr.fit(X_train, y_train)\n",
    "\n",
    "smr = gs_smr.best_estimator_\n",
    "y_pred_valid = smr.predict_proba(X_valid)\n",
    "\n",
    "# Multiclass average ROC_AUC score:\n",
    "avg_roc_auc = 0\n",
    "for i, label in enumerate(smr.classes_):\n",
    "    y_valid_label = (y_valid == label).astype(int)\n",
    "    y_pred_valid_label = y_pred_valid[:,i]\n",
    "    avg_roc_auc += roc_auc_score(y_valid_label, y_pred_valid_label)\n",
    "    \n",
    "avg_roc_auc /= len(smr.classes_)\n",
    "\n",
    "print (\"The best average ROC_AUC for Softmax Regression on validation set is {:.4f}\".format(avg_roc_auc))\n",
    "display(gs_smr.best_params_)"
   ]
  }
 ],
 "metadata": {
  "kernelspec": {
   "display_name": "Python 3",
   "language": "python",
   "name": "python3"
  },
  "language_info": {
   "codemirror_mode": {
    "name": "ipython",
    "version": 3
   },
   "file_extension": ".py",
   "mimetype": "text/x-python",
   "name": "python",
   "nbconvert_exporter": "python",
   "pygments_lexer": "ipython3",
   "version": "3.7.1"
  }
 },
 "nbformat": 4,
 "nbformat_minor": 2
}
