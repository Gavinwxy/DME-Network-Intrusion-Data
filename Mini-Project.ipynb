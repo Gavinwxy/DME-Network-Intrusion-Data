{
 "cells": [
  {
   "cell_type": "markdown",
   "metadata": {},
   "source": [
    "## Import necessary packages:"
   ]
  },
  {
   "cell_type": "code",
   "execution_count": 2,
   "metadata": {},
   "outputs": [],
   "source": [
    "import numpy as np\n",
    "import pandas as pd\n",
    "from matplotlib import pyplot as plt\n",
    "import seaborn as sns\n",
    "from sklearn import preprocessing\n",
    "from sklearn.model_selection import train_test_split, StratifiedShuffleSplit, GridSearchCV\n",
    "from sklearn.decomposition import PCA\n",
    "from sklearn.metrics import roc_auc_score\n",
    "from sklearn.linear_model import LogisticRegression"
   ]
  },
  {
   "cell_type": "markdown",
   "metadata": {},
   "source": [
    "## Import data and assign feature name to each column:"
   ]
  },
  {
   "cell_type": "code",
   "execution_count": 11,
   "metadata": {},
   "outputs": [],
   "source": [
    "columns = []\n",
    "with open('kddcup.names') as f:\n",
    "    next(f)\n",
    "    for line in f:\n",
    "        feature = line.split(':')[0]\n",
    "        columns.append(feature)\n",
    "columns.append('label')"
   ]
  },
  {
   "cell_type": "code",
   "execution_count": 12,
   "metadata": {},
   "outputs": [],
   "source": [
    "train_data = pd.read_csv('kddcup.data', header=None)\n",
    "train_data.columns = columns\n",
    "train_data['label'] = train_data['label'].apply(lambda x: x.replace('.', ''))\n",
    "\n",
    "test_data = pd.read_csv('corrected', header=None)\n",
    "test_data.columns = columns\n",
    "test_data['label'] = test_data['label'].apply(lambda x: x.replace('.', ''))"
   ]
  },
  {
   "cell_type": "code",
   "execution_count": 13,
   "metadata": {},
   "outputs": [],
   "source": [
    "boundary = train_data.shape[0]\n",
    "whole_data = pd.concat([train_data, test_data], axis=0)"
   ]
  },
  {
   "cell_type": "markdown",
   "metadata": {},
   "source": [
    "## One-hot encoding:"
   ]
  },
  {
   "cell_type": "code",
   "execution_count": 15,
   "metadata": {},
   "outputs": [
    {
     "name": "stderr",
     "output_type": "stream",
     "text": [
      "/anaconda3/envs/dme/lib/python3.7/site-packages/sklearn/preprocessing/_encoders.py:368: FutureWarning: The handling of integer data will change in version 0.22. Currently, the categories are determined based on the range [0, max(values)], while in the future they will be determined based on the unique values.\n",
      "If you want the future behaviour and silence this warning, you can specify \"categories='auto'\".\n",
      "In case you used a LabelEncoder before this OneHotEncoder to convert the categories to integers, then you can now use the OneHotEncoder directly.\n",
      "  warnings.warn(msg, FutureWarning)\n"
     ]
    }
   ],
   "source": [
    "categorical = ['protocol_type', 'service', 'flag', 'land', 'logged_in', 'is_host_login', 'is_guest_login']\n",
    "whole_data_categorical = whole_data[categorical].copy()\n",
    "whole_data.drop(columns=categorical, inplace=True)\n",
    "\n",
    "le = preprocessing.LabelEncoder()\n",
    "whole_data_categorical_T = whole_data_categorical.apply(le.fit_transform)\n",
    "\n",
    "enc = preprocessing.OneHotEncoder()\n",
    "whole_data_categorical_T = enc.fit_transform(whole_data_categorical_T).toarray()\n",
    "\n",
    "num_features = whole_data_categorical_T.shape[1]\n",
    "whole_data_categorical_T = pd.DataFrame(data=whole_data_categorical_T, index=whole_data.index, columns=[str(i) for i in range(num_features)])\n",
    "\n",
    "whole_data = pd.concat([whole_data_categorical_T, whole_data], axis=1)"
   ]
  },
  {
   "cell_type": "markdown",
   "metadata": {},
   "source": [
    "## Split data into training and test set:"
   ]
  },
  {
   "cell_type": "code",
   "execution_count": 22,
   "metadata": {},
   "outputs": [],
   "source": [
    "train_data = whole_data.iloc[:boundary]\n",
    "test_data = whole_data.iloc[boundary:]\n",
    "\n",
    "X_train, y_train = train_data.drop(columns='label'), train_data['label']\n",
    "X_train, X_valid, y_train, y_valid = train_test_split(X_train, y_train, stratify=y_train, test_size=0.2, random_state=0)\n",
    "X_test, y_test = test_data.drop(columns='label'), test_data['label']"
   ]
  },
  {
   "cell_type": "markdown",
   "metadata": {},
   "source": [
    "## Store preprocessed data for later usage:"
   ]
  },
  {
   "cell_type": "code",
   "execution_count": 23,
   "metadata": {},
   "outputs": [],
   "source": [
    "np.save(\"X_train.npy\", X_train)\n",
    "np.save(\"y_train.npy\", y_train)\n",
    "\n",
    "np.save(\"X_valid.npy\", X_valid)\n",
    "np.save(\"y_valid.npy\", y_valid)\n",
    "\n",
    "np.save(\"X_test.npy\", X_test)\n",
    "np.save(\"y_test.npy\", y_test)"
   ]
  },
  {
   "cell_type": "markdown",
   "metadata": {},
   "source": [
    "## Load preprocessed data back:"
   ]
  },
  {
   "cell_type": "code",
   "execution_count": 3,
   "metadata": {},
   "outputs": [],
   "source": [
    "X_train = np.load(\"X_train.npy\")\n",
    "y_train = np.load(\"y_train.npy\")\n",
    "\n",
    "X_valid = np.load(\"X_valid.npy\")\n",
    "y_valid = np.load(\"y_valid.npy\")\n",
    "\n",
    "X_test = np.load(\"X_test.npy\")\n",
    "y_test = np.load(\"y_test.npy\")"
   ]
  },
  {
   "cell_type": "markdown",
   "metadata": {},
   "source": [
    "## Standardize feature vectors using RobustScaler:"
   ]
  },
  {
   "cell_type": "code",
   "execution_count": 4,
   "metadata": {},
   "outputs": [],
   "source": [
    "rscaler = preprocessing.RobustScaler().fit(X_train)\n",
    "X_train, X_valid, X_test = rscaler.transform(X_train), rscaler.transform(X_valid), rscaler.transform(X_test)"
   ]
  },
  {
   "cell_type": "markdown",
   "metadata": {},
   "source": [
    "## Use linear PCA to perform dimensionality reduction:\n",
    "**Warning**: linear PCA seems to be **not** working on this dataset."
   ]
  },
  {
   "cell_type": "code",
   "execution_count": 18,
   "metadata": {},
   "outputs": [
    {
     "data": {
      "image/png": "[encoded data removed]",
      "text/plain": [
       "<Figure size 576x288 with 2 Axes>"
      ]
     },
     "metadata": {
      "needs_background": "light"
     },
     "output_type": "display_data"
    }
   ],
   "source": [
    "pca = PCA(n_components=X_train.shape[1], svd_solver='full')\n",
    "pca.fit(X_train)\n",
    "\n",
    "fig, ax1 = plt.subplots(figsize=(8, 4))\n",
    "graph1 = ax1.bar(np.arange(X_train.shape[1]), pca.explained_variance_ratio_, label='individual explained variance')\n",
    "ax1.tick_params(axis='y', labelcolor='blue')\n",
    "ax1.set_xlabel('Number of Principal Components')\n",
    "ax1.set_ylabel('Explained Variance Ratio')\n",
    "\n",
    "ax2 = ax1.twinx()\n",
    "graph2 = ax2.plot(np.cumsum(pca.explained_variance_ratio_), c='red', label='cumulative explained variance')\n",
    "ax2.tick_params(axis='y', labelcolor='red')\n",
    "ax2.set_ylabel('Explained Variance Ratio')\n",
    "\n",
    "index = np.nonzero(np.cumsum(pca.explained_variance_ratio_) >= 0.8)[0][0]\n",
    "graph3 = ax2.vlines(index, 0, 1, color='purple', linestyles=\"dotted\", label='80% variance is explained with {} components'.format(index+1))\n",
    "\n",
    "graphs = [graph1, graph2[0], graph3]\n",
    "labels = [g.get_label() for g in graphs]\n",
    "ax1.legend(graphs, labels, bbox_to_anchor=(1, 0.5))\n",
    "\n",
    "plt.title('Explained Variance Ratio versus Number of Principal Components')\n",
    "plt.show()"
   ]
  },
  {
   "cell_type": "markdown",
   "metadata": {},
   "source": [
    "## Linear Regression for normal and non-normal binary classification:"
   ]
  },
  {
   "cell_type": "code",
   "execution_count": 38,
   "metadata": {},
   "outputs": [],
   "source": [
    "# Binarize labels into normal and non-normal:\n",
    "y_train_binarized = (y_train == 'normal').astype(int)\n",
    "y_valid_binarized = (y_valid == 'normal').astype(int)\n",
    "y_test_binarized = (y_test == 'normal').astype(int)\n",
    "\n",
    "# Stratified holdout validation:\n",
    "sss = StratifiedShuffleSplit(n_splits=1, test_size=0.2, random_state=0)"
   ]
  },
  {
   "cell_type": "code",
   "execution_count": null,
   "metadata": {},
   "outputs": [],
   "source": [
    "parameters = {\n",
    "    #'C': np.logspace(-5, 5, 30)\n",
    "    'C': [1]\n",
    "}\n",
    "\n",
    "# L1 regularization mimics the feature selection process due to its sparsity\n",
    "gs_lgr = GridSearchCV(LogisticRegression(penalty='l1', class_weight='balanced', solver='saga'), parameters, cv=sss)\n",
    "gs_lgr.fit(X_train, y_train_binarized)\n",
    "\n",
    "lgr = gs_lgr.best_estimator_\n",
    "y_pred_valid_binarized = lgr.predict_proba(X_valid)\n",
    "roc_auc = roc_auc_score(y_valid_binarized, y_pred_valid_binarized)\n",
    "\n",
    "print (\"The best ROC_AUC for Logistic Regression on validation set is {:.4f}\".format(roc_auc))\n",
    "display(gs_lgr.best_params_)"
   ]
  },
  {
   "cell_type": "markdown",
   "metadata": {},
   "source": [
    "## Softmax Regression for attack type multiclass classification:"
   ]
  },
  {
   "cell_type": "code",
   "execution_count": 36,
   "metadata": {},
   "outputs": [],
   "source": [
    "# Exclude normal instances from dataset:\n",
    "y_train_no_normal_idx = (y_train != 'normal')\n",
    "X_train_no_normal, y_train_no_normal = X_train[y_train_no_normal_idx], y_train[y_train_no_normal_idx]\n",
    "\n",
    "y_valid_no_normal_idx = (y_valid != 'normal')\n",
    "X_valid_no_normal, y_valid_no_normal = X_valid[y_valid_no_normal_idx], y_valid[y_valid_no_normal_idx]\n",
    "\n",
    "y_test_no_normal_idx = (y_test != 'normal')\n",
    "X_test_no_normal, y_test_no_normal = X_test[y_test_no_normal_idx], y_test[y_test_no_normal_idx]"
   ]
  },
  {
   "cell_type": "code",
   "execution_count": null,
   "metadata": {},
   "outputs": [],
   "source": [
    "parameters = {\n",
    "    #'C': np.logspace(-5, 5, 30)\n",
    "    'C': [1]\n",
    "}\n",
    "\n",
    "# L1 regularization mimics the feature selection process due to its sparsity\n",
    "gs_smr = GridSearchCV(LogisticRegression(multi_class='multinomial', penalty='l1', class_weight='balanced', solver='saga'), parameters, cv=sss)\n",
    "gs_smr.fit(X_train_no_normal, y_train_no_normal)\n",
    "\n",
    "smr = gs_smr.best_estimator_\n",
    "y_pred_valid_no_normal = smr.predict_proba(X_valid_no_normal)\n",
    "\n",
    "# Multiclass average ROC_AUC score:\n",
    "avg_roc_auc = 0\n",
    "for i, attack in enumerate(smr.classes_):\n",
    "    y_valid_attack = (y_valid_no_normal == attack).astype(int)\n",
    "    y_pred_valid_attack = y_pred_valid_no_normal[:,i]\n",
    "    avg_roc_auc += roc_auc_score(y_valid_attack, y_pred_valid_attack)\n",
    "    \n",
    "avg_roc_auc /= len(smr.classes_)\n",
    "\n",
    "print (\"The best average ROC_AUC for Softmax Regression on validation set is {:.4f}\".format(avg_roc_auc))\n",
    "display(gs_smr.best_params_)"
   ]
  }
 ],
 "metadata": {
  "kernelspec": {
   "display_name": "Python 3",
   "language": "python",
   "name": "python3"
  },
  "language_info": {
   "codemirror_mode": {
    "name": "ipython",
    "version": 3
   },
   "file_extension": ".py",
   "mimetype": "text/x-python",
   "name": "python",
   "nbconvert_exporter": "python",
   "pygments_lexer": "ipython3",
   "version": "3.7.1"
  }
 },
 "nbformat": 4,
 "nbformat_minor": 2
}
